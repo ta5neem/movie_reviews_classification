{
  "cells": [
    {
      "cell_type": "code",
      "execution_count": null,
      "metadata": {
        "id": "ScoiNcWNnC5n"
      },
      "outputs": [],
      "source": [
        "import nltk\n",
        "import re\n",
        "import pandas as pd\n",
        "import numpy as np\n",
        "import matplotlib.pyplot as plotter\n",
        "import matplotlib.pyplot as plt            # library for visualization\n",
        "import matplotlib\n",
        "from nltk.tokenize import TweetTokenizer\n",
        "import collections\n",
        "from nltk.collocations import *\n",
        "from collections import Counter\n",
        "from nltk.corpus import brown\n",
        "from nltk.corpus import webtext\n",
        "from nltk.collocations import BigramCollocationFinder\n",
        "from nltk import trigrams\n",
        "from nltk.corpus import stopwords\n",
        "from wordcloud import WordCloud\n",
        "# nltk.download('stopwords')"
      ]
    },
    {
      "cell_type": "code",
      "execution_count": 3,
      "metadata": {
        "id": "3B0CR84Tnz7l"
      },
      "outputs": [],
      "source": [
        "review = pd.read_csv(\"Train.csv\")"
      ]
    },
    {
      "cell_type": "code",
      "execution_count": 4,
      "metadata": {
        "id": "szhjfx8zoWTh"
      },
      "outputs": [],
      "source": [
        "df = pd.DataFrame.from_dict(review)"
      ]
    },
    {
      "cell_type": "code",
      "execution_count": 5,
      "metadata": {
        "id": "LTZbfhvro2jr",
        "colab": {
          "base_uri": "https://localhost:8080/",
          "height": 206
        },
        "outputId": "65143126-3216-4104-b2a8-80d4452d7fd0"
      },
      "outputs": [
        {
          "output_type": "execute_result",
          "data": {
            "text/plain": [
              "                                                text  label\n",
              "0  I grew up (b. 1965) watching and loving the Th...      0\n",
              "1  When I put this movie in my DVD player, and sa...      0\n",
              "2  Why do people who do not know what a particula...      0\n",
              "3  Even though I have great interest in Biblical ...      0\n",
              "4  Im a die hard Dads Army fan and nothing will e...      1"
            ],
            "text/html": [
              "\n",
              "  <div id=\"df-9c5dba21-42eb-462c-88da-560650962757\">\n",
              "    <div class=\"colab-df-container\">\n",
              "      <div>\n",
              "<style scoped>\n",
              "    .dataframe tbody tr th:only-of-type {\n",
              "        vertical-align: middle;\n",
              "    }\n",
              "\n",
              "    .dataframe tbody tr th {\n",
              "        vertical-align: top;\n",
              "    }\n",
              "\n",
              "    .dataframe thead th {\n",
              "        text-align: right;\n",
              "    }\n",
              "</style>\n",
              "<table border=\"1\" class=\"dataframe\">\n",
              "  <thead>\n",
              "    <tr style=\"text-align: right;\">\n",
              "      <th></th>\n",
              "      <th>text</th>\n",
              "      <th>label</th>\n",
              "    </tr>\n",
              "  </thead>\n",
              "  <tbody>\n",
              "    <tr>\n",
              "      <th>0</th>\n",
              "      <td>I grew up (b. 1965) watching and loving the Th...</td>\n",
              "      <td>0</td>\n",
              "    </tr>\n",
              "    <tr>\n",
              "      <th>1</th>\n",
              "      <td>When I put this movie in my DVD player, and sa...</td>\n",
              "      <td>0</td>\n",
              "    </tr>\n",
              "    <tr>\n",
              "      <th>2</th>\n",
              "      <td>Why do people who do not know what a particula...</td>\n",
              "      <td>0</td>\n",
              "    </tr>\n",
              "    <tr>\n",
              "      <th>3</th>\n",
              "      <td>Even though I have great interest in Biblical ...</td>\n",
              "      <td>0</td>\n",
              "    </tr>\n",
              "    <tr>\n",
              "      <th>4</th>\n",
              "      <td>Im a die hard Dads Army fan and nothing will e...</td>\n",
              "      <td>1</td>\n",
              "    </tr>\n",
              "  </tbody>\n",
              "</table>\n",
              "</div>\n",
              "      <button class=\"colab-df-convert\" onclick=\"convertToInteractive('df-9c5dba21-42eb-462c-88da-560650962757')\"\n",
              "              title=\"Convert this dataframe to an interactive table.\"\n",
              "              style=\"display:none;\">\n",
              "        \n",
              "  <svg xmlns=\"http://www.w3.org/2000/svg\" height=\"24px\"viewBox=\"0 0 24 24\"\n",
              "       width=\"24px\">\n",
              "    <path d=\"M0 0h24v24H0V0z\" fill=\"none\"/>\n",
              "    <path d=\"M18.56 5.44l.94 2.06.94-2.06 2.06-.94-2.06-.94-.94-2.06-.94 2.06-2.06.94zm-11 1L8.5 8.5l.94-2.06 2.06-.94-2.06-.94L8.5 2.5l-.94 2.06-2.06.94zm10 10l.94 2.06.94-2.06 2.06-.94-2.06-.94-.94-2.06-.94 2.06-2.06.94z\"/><path d=\"M17.41 7.96l-1.37-1.37c-.4-.4-.92-.59-1.43-.59-.52 0-1.04.2-1.43.59L10.3 9.45l-7.72 7.72c-.78.78-.78 2.05 0 2.83L4 21.41c.39.39.9.59 1.41.59.51 0 1.02-.2 1.41-.59l7.78-7.78 2.81-2.81c.8-.78.8-2.07 0-2.86zM5.41 20L4 18.59l7.72-7.72 1.47 1.35L5.41 20z\"/>\n",
              "  </svg>\n",
              "      </button>\n",
              "      \n",
              "  <style>\n",
              "    .colab-df-container {\n",
              "      display:flex;\n",
              "      flex-wrap:wrap;\n",
              "      gap: 12px;\n",
              "    }\n",
              "\n",
              "    .colab-df-convert {\n",
              "      background-color: #E8F0FE;\n",
              "      border: none;\n",
              "      border-radius: 50%;\n",
              "      cursor: pointer;\n",
              "      display: none;\n",
              "      fill: #1967D2;\n",
              "      height: 32px;\n",
              "      padding: 0 0 0 0;\n",
              "      width: 32px;\n",
              "    }\n",
              "\n",
              "    .colab-df-convert:hover {\n",
              "      background-color: #E2EBFA;\n",
              "      box-shadow: 0px 1px 2px rgba(60, 64, 67, 0.3), 0px 1px 3px 1px rgba(60, 64, 67, 0.15);\n",
              "      fill: #174EA6;\n",
              "    }\n",
              "\n",
              "    [theme=dark] .colab-df-convert {\n",
              "      background-color: #3B4455;\n",
              "      fill: #D2E3FC;\n",
              "    }\n",
              "\n",
              "    [theme=dark] .colab-df-convert:hover {\n",
              "      background-color: #434B5C;\n",
              "      box-shadow: 0px 1px 3px 1px rgba(0, 0, 0, 0.15);\n",
              "      filter: drop-shadow(0px 1px 2px rgba(0, 0, 0, 0.3));\n",
              "      fill: #FFFFFF;\n",
              "    }\n",
              "  </style>\n",
              "\n",
              "      <script>\n",
              "        const buttonEl =\n",
              "          document.querySelector('#df-9c5dba21-42eb-462c-88da-560650962757 button.colab-df-convert');\n",
              "        buttonEl.style.display =\n",
              "          google.colab.kernel.accessAllowed ? 'block' : 'none';\n",
              "\n",
              "        async function convertToInteractive(key) {\n",
              "          const element = document.querySelector('#df-9c5dba21-42eb-462c-88da-560650962757');\n",
              "          const dataTable =\n",
              "            await google.colab.kernel.invokeFunction('convertToInteractive',\n",
              "                                                     [key], {});\n",
              "          if (!dataTable) return;\n",
              "\n",
              "          const docLinkHtml = 'Like what you see? Visit the ' +\n",
              "            '<a target=\"_blank\" href=https://colab.research.google.com/notebooks/data_table.ipynb>data table notebook</a>'\n",
              "            + ' to learn more about interactive tables.';\n",
              "          element.innerHTML = '';\n",
              "          dataTable['output_type'] = 'display_data';\n",
              "          await google.colab.output.renderOutput(dataTable, element);\n",
              "          const docLink = document.createElement('div');\n",
              "          docLink.innerHTML = docLinkHtml;\n",
              "          element.appendChild(docLink);\n",
              "        }\n",
              "      </script>\n",
              "    </div>\n",
              "  </div>\n",
              "  "
            ]
          },
          "metadata": {},
          "execution_count": 5
        }
      ],
      "source": [
        "df=df.dropna()\n",
        "df.head()"
      ]
    },
    {
      "cell_type": "code",
      "execution_count": 5,
      "metadata": {
        "id": "JAPBV7o-pj4c"
      },
      "outputs": [],
      "source": []
    },
    {
      "cell_type": "code",
      "execution_count": 6,
      "metadata": {
        "id": "5AYvffH0o78J"
      },
      "outputs": [],
      "source": [
        "df = df.drop_duplicates(subset=[\"text\"], keep='first')\n",
        "#print(df2)\n",
        "# df.head(10)"
      ]
    },
    {
      "cell_type": "code",
      "execution_count": 7,
      "metadata": {
        "id": "us06YDeJplfk",
        "colab": {
          "base_uri": "https://localhost:8080/"
        },
        "outputId": "fb81a54d-5201-4cb9-e857-9215df6d9b03"
      },
      "outputs": [
        {
          "output_type": "execute_result",
          "data": {
            "text/plain": [
              "array([0, 1])"
            ]
          },
          "metadata": {},
          "execution_count": 7
        }
      ],
      "source": [
        "df['label'].unique()"
      ]
    },
    {
      "cell_type": "code",
      "execution_count": 8,
      "metadata": {
        "id": "U3jcvD3qplmc"
      },
      "outputs": [],
      "source": [
        "from nltk.tokenize import TreebankWordTokenizer\n",
        "tokenizer = TreebankWordTokenizer()\n",
        "tweet_tokens = tokenizer.tokenize(df.iloc[ 5 ]['text'])"
      ]
    },
    {
      "cell_type": "code",
      "execution_count": 9,
      "metadata": {
        "id": "KOyKq64WqV55"
      },
      "outputs": [],
      "source": [
        "# tweet_tokens\n"
      ]
    },
    {
      "cell_type": "code",
      "execution_count": 10,
      "metadata": {
        "id": "nB3nwvR3qfzQ"
      },
      "outputs": [],
      "source": [
        "def token (df, text_field):\n",
        "    tokenizer2 = TreebankWordTokenizer()\n",
        "    df['cleaned_text'] = df[text_field].apply(tokenizer2.tokenize)\n",
        "    # tokenizer = RegexpTokenizer(r'\\w+')\n",
        "    # df['cleaned_text'] = df[text_field].apply(tokenizer.tokenize)\n",
        "    # print(clean_df['text'].values[0])\n",
        "    return df\n",
        "\n",
        "# token(df,'text').head()    "
      ]
    },
    {
      "cell_type": "code",
      "execution_count": 11,
      "metadata": {
        "id": "kLBZoGwBrEv1",
        "colab": {
          "base_uri": "https://localhost:8080/"
        },
        "outputId": "ac2bbf1a-e120-4e0c-cbd5-4458efc2d194"
      },
      "outputs": [
        {
          "output_type": "execute_result",
          "data": {
            "text/plain": [
              "0        I grew up (b. 1965) watching and loving the Th...\n",
              "1        When I put this movie in my DVD player, and sa...\n",
              "2        Why do people who do not know what a particula...\n",
              "3        Even though I have great interest in Biblical ...\n",
              "4        Im a die hard Dads Army fan and nothing will e...\n",
              "                               ...                        \n",
              "39995    \"Western Union\" is something of a forgotten cl...\n",
              "39996    This movie is an incredible piece of work. It ...\n",
              "39997    My wife and I watched this movie because we pl...\n",
              "39998    When I first watched Flatliners, I was amazed....\n",
              "39999    Why would this film be so good, but only gross...\n",
              "Name: text, Length: 39723, dtype: object"
            ]
          },
          "metadata": {},
          "execution_count": 11
        }
      ],
      "source": [
        "df['text']"
      ]
    },
    {
      "cell_type": "code",
      "execution_count": 12,
      "metadata": {
        "id": "PDKr_GfGrL_o",
        "colab": {
          "base_uri": "https://localhost:8080/"
        },
        "outputId": "28e30e2e-5f88-4a17-8d53-77ecabcfda6f"
      },
      "outputs": [
        {
          "output_type": "stream",
          "name": "stderr",
          "text": [
            "[nltk_data] Downloading package stopwords to /root/nltk_data...\n",
            "[nltk_data]   Package stopwords is already up-to-date!\n"
          ]
        }
      ],
      "source": [
        "import nltk\n",
        "nltk.download('stopwords')\n",
        "stopwords_list = stopwords.words() "
      ]
    },
    {
      "cell_type": "code",
      "execution_count": 12,
      "metadata": {
        "id": "i9FH1C6yruM1"
      },
      "outputs": [],
      "source": []
    },
    {
      "cell_type": "code",
      "execution_count": 13,
      "metadata": {
        "id": "h34Tcff7rvzL"
      },
      "outputs": [],
      "source": [
        "def tags_url(tweet):\n",
        "   tweet = re.sub(r'https?\\S+', '', tweet)\n",
        "   tweet = re.sub(r\"@\\S+\", '', tweet)\n",
        "   return tweet\n",
        "\n",
        "# df['cleaned_text'] = df['text'].apply(lambda x: \"\".join(tags_url(str(x))))\n",
        "# df.head()"
      ]
    },
    {
      "cell_type": "code",
      "execution_count": 14,
      "metadata": {
        "id": "rSUatoTwsFk_"
      },
      "outputs": [],
      "source": [
        "\n",
        "def hashtags(tweet):\n",
        "   tweet = re.sub(r'#\\S+', '', tweet)\n",
        "   return tweet\n",
        "\n",
        "# df['cleaned_text'] = df['text'].apply(lambda x: \"\".join(hashtags(str(x))))\n",
        "# df.head(100)"
      ]
    },
    {
      "cell_type": "code",
      "execution_count": 15,
      "metadata": {
        "id": "wyA6sbjazq28"
      },
      "outputs": [],
      "source": [
        "def remove_repeat(tweet):\n",
        "   tweet = re.sub(r'(.)\\1+', r'\\1',tweet)\n",
        "   return tweet\n",
        "\n",
        "# df['cleaned_text'] = df['text'].apply(lambda x: \"\".join(remove_repeat(str(x))))\n",
        "# df.head(100)"
      ]
    },
    {
      "cell_type": "code",
      "execution_count": 16,
      "metadata": {
        "id": "WosfIENjz61X"
      },
      "outputs": [],
      "source": [
        "def ind_arb(tweet):\n",
        "    indian = '۰١٢٣٤٥٦٧٨٩'\n",
        "    arabic = '0123456789'\n",
        "\n",
        "    translation_table = str.maketrans( indian,arabic)\n",
        "\n",
        "    tweet = tweet.translate(translation_table)\n",
        "    return tweet\n",
        "\n",
        "# df['cleaned_text'] = df['text'].apply(lambda x: \"\".join(ind_arb(str(x))))\n",
        "# df.head(100)"
      ]
    },
    {
      "cell_type": "code",
      "execution_count": 17,
      "metadata": {
        "id": "n_e4_Ep_0GqI"
      },
      "outputs": [],
      "source": [
        "def aaat(tweet):\n",
        "   tweet = re.sub(r'@\\S+', '', tweet)\n",
        "   return tweet\n",
        "\n",
        "# df['cleaned_text'] = df['text'].apply(lambda x: \"\".join(aaat(str(x))))\n",
        "# df.head(100)"
      ]
    },
    {
      "cell_type": "code",
      "execution_count": 18,
      "metadata": {
        "id": "bbxb7PVL0fo2"
      },
      "outputs": [],
      "source": [
        "def remove_number(tweet):\n",
        "    pattern = r'[0-9]|[۰-٩]'\n",
        "\n",
        "    # Match all digits in the string and replace them with an empty string\n",
        "    tweet = re.sub(r'\\d', '', tweet)\n",
        "    return tweet\n",
        "\n",
        "# df['cleaned_text'] = df['text'].apply(lambda x: \"\".join(remove_number(str(x))))\n",
        "# df.head(100)"
      ]
    },
    {
      "cell_type": "code",
      "execution_count": 19,
      "metadata": {
        "id": "sgD0vmrN0qoe"
      },
      "outputs": [],
      "source": [
        "def remove_noise(tweet):\n",
        "    pattern = r'[0-9]|[۰-٩]'\n",
        "\n",
        "    tweet = re.sub('[%s]' % re.escape(\"\"\"!\"$%&'()*+,،-./:;<=>؟?@[\\]^`{|}~|\\•|\\)|\\(\"\"\"), '', tweet)\n",
        "    return tweet\n",
        "\n",
        "# df['cleaned_text'] = df['text'].apply(lambda x: \"\".join(remove_noise(str(x))))\n",
        "# df.head(100)\n"
      ]
    },
    {
      "cell_type": "code",
      "execution_count": 20,
      "metadata": {
        "id": "hFikEwiT01gW"
      },
      "outputs": [],
      "source": [
        "def remove_emojies(tweet):\n",
        "        emoji_pattern = re.compile(\"[\"\n",
        "        u\"\\U0001F600-\\U0001F64F\"  # emoticons\n",
        "        u\"\\U0001F300-\\U0001F5FF\"  # symbols & pictographs\n",
        "        u\"\\U0001F680-\\U0001F6FF\"  # transport & map symbols\n",
        "        u\"\\U0001F1E0-\\U0001F1FF\"  # flags (iOS)\n",
        "        u\"\\U0001F1F2-\\U0001F1F4\"  # Macau flag\n",
        "        u\"\\U0001F1E6-\\U0001F1FF\"  # flags\n",
        "        u\"\\U0001F600-\\U0001F64F\"\n",
        "        u\"\\U00002702-\\U000027B0\"\n",
        "        u\"\\U000024C2-\\U0001F251\"\n",
        "        u\"\\U0001f926-\\U0001f937\"\n",
        "        u\"\\U0001F1F2\"\n",
        "        u\"\\U0001F1F4\"\n",
        "        u\"\\U0001F620\"\n",
        "        u\"\\u200d\"\n",
        "        u\"\\u2640-\\u2642\"\n",
        "        \"]+\", flags=re.UNICODE)\n",
        "\n",
        "        tweet = emoji_pattern.sub(r'',tweet)\n",
        "        return tweet\n",
        "\n",
        "# df['cleaned_text'] = df['text'].apply(lambda x: \"\".join(remove_emojies(str(x))))\n",
        "# df.head(100)"
      ]
    },
    {
      "cell_type": "code",
      "execution_count": 21,
      "metadata": {
        "id": "2FX-o7dQ1l_x",
        "colab": {
          "base_uri": "https://localhost:8080/"
        },
        "outputId": "f6f2cc40-09aa-418e-af81-29f6d6a76076"
      },
      "outputs": [
        {
          "output_type": "stream",
          "name": "stderr",
          "text": [
            "[nltk_data] Downloading package punkt to /root/nltk_data...\n",
            "[nltk_data]   Package punkt is already up-to-date!\n"
          ]
        },
        {
          "output_type": "execute_result",
          "data": {
            "text/plain": [
              "True"
            ]
          },
          "metadata": {},
          "execution_count": 21
        }
      ],
      "source": [
        "nltk.download('punkt')"
      ]
    },
    {
      "cell_type": "code",
      "execution_count": 22,
      "metadata": {
        "id": "KbJ9uuAg1F-2"
      },
      "outputs": [],
      "source": [
        "from nltk.tokenize import word_tokenize\n",
        "# import nltk\n",
        "\n",
        "def remove_stop (tweet) :\n",
        "    stemmer = PorterStemmer()     \n",
        "    stop_words = set(stopwords.words())\n",
        "\n",
        "    word_tokens = word_tokenize(tweet)\n",
        "    # filtered_sentence = []\n",
        "    filtered_sentence = [w for w in word_tokens if not w in stop_words]\n",
        "    tweet_clean = []\n",
        "\n",
        "    for tw in filtered_sentence:\n",
        "            # tweets_clean.append(word)\n",
        "            # stem_token = porter.stem(tw)  # stemming word\n",
        "            # tweet_clean.append(tw)\n",
        "            # tweet_clean.append(' ')\n",
        "            stem_token = stemmer.stem(tw)\n",
        "            tweet_clean.append(stem_token)\n",
        "\n",
        "    return tweet_clean\n",
        "\n",
        "# df['cleaned_text'] = df['text'].apply(lambda x: \"\".join(remove_stop(str(x))))\n",
        "# df.head(100)"
      ]
    },
    {
      "cell_type": "code",
      "execution_count": 23,
      "metadata": {
        "id": "JNibmX_Q1O4d"
      },
      "outputs": [],
      "source": [
        "from nltk.stem import PorterStemmer\n",
        "\n",
        "def stemmer (tweet) : \n",
        "    stemmer = PorterStemmer()\n",
        "    word_tokens = word_tokenize(tweet)\n",
        "\n",
        "    filtered_sentence = [w for w in word_tokens ]\n",
        "\n",
        "    tweet_clean = [] \n",
        "    for tw in filtered_sentence:\n",
        "            # tweets_clean.append(word)\n",
        "            # stem_token = porter.stem(tw)  # stemming word\n",
        "            stem_token = stemmer.stem(tw)\n",
        "            tweet_clean.append(stem_token)\n",
        "            \n",
        "\n",
        "    return tweet_clean\n",
        "\n",
        "# df['cleaned_text'] = df['text'].apply(lambda x: \"\".join(stemmer(str(x))))\n",
        "# df.head(100)"
      ]
    },
    {
      "cell_type": "code",
      "execution_count": 24,
      "metadata": {
        "id": "ifD1I0qK1760"
      },
      "outputs": [],
      "source": [
        "def remove_spaces(tweet):\n",
        "      tweet = \" \".join(tweet.split())\n",
        "      return tweet \n",
        "\n"
      ]
    },
    {
      "cell_type": "code",
      "execution_count": 25,
      "metadata": {
        "id": "19RD3dUf2Syr"
      },
      "outputs": [],
      "source": [
        "def remove_tweet(dataframe,work):\n",
        "    return dataframe.drop_duplicates()\n"
      ]
    },
    {
      "cell_type": "code",
      "execution_count": 26,
      "metadata": {
        "id": "aWQhzHiI2fen",
        "colab": {
          "base_uri": "https://localhost:8080/",
          "height": 206
        },
        "outputId": "e8121675-1eea-46f6-ea88-d9f51b8f9798"
      },
      "outputs": [
        {
          "output_type": "execute_result",
          "data": {
            "text/plain": [
              "                                                text  label  \\\n",
              "0  I grew up (b. 1965) watching and loving the Th...      0   \n",
              "1  When I put this movie in my DVD player, and sa...      0   \n",
              "2  Why do people who do not know what a particula...      0   \n",
              "3  Even though I have great interest in Biblical ...      0   \n",
              "4  Im a die hard Dads Army fan and nothing will e...      1   \n",
              "\n",
              "                                        cleaned_text  \n",
              "0  [i, grew, b, watch, love, thunderbird, al, mat...  \n",
              "1  [when, i, put, movi, dvd, player, sat, coke, c...  \n",
              "2  [whi, particular, time, past, defin, time, rep...  \n",
              "3  [even, i, great, interest, biblic, movi, i, bo...  \n",
              "4  [im, hard, dad, armi, chang, i, tape, dvd, aud...  "
            ],
            "text/html": [
              "\n",
              "  <div id=\"df-3d584c58-6ba5-42a0-966d-47395ae94dfd\">\n",
              "    <div class=\"colab-df-container\">\n",
              "      <div>\n",
              "<style scoped>\n",
              "    .dataframe tbody tr th:only-of-type {\n",
              "        vertical-align: middle;\n",
              "    }\n",
              "\n",
              "    .dataframe tbody tr th {\n",
              "        vertical-align: top;\n",
              "    }\n",
              "\n",
              "    .dataframe thead th {\n",
              "        text-align: right;\n",
              "    }\n",
              "</style>\n",
              "<table border=\"1\" class=\"dataframe\">\n",
              "  <thead>\n",
              "    <tr style=\"text-align: right;\">\n",
              "      <th></th>\n",
              "      <th>text</th>\n",
              "      <th>label</th>\n",
              "      <th>cleaned_text</th>\n",
              "    </tr>\n",
              "  </thead>\n",
              "  <tbody>\n",
              "    <tr>\n",
              "      <th>0</th>\n",
              "      <td>I grew up (b. 1965) watching and loving the Th...</td>\n",
              "      <td>0</td>\n",
              "      <td>[i, grew, b, watch, love, thunderbird, al, mat...</td>\n",
              "    </tr>\n",
              "    <tr>\n",
              "      <th>1</th>\n",
              "      <td>When I put this movie in my DVD player, and sa...</td>\n",
              "      <td>0</td>\n",
              "      <td>[when, i, put, movi, dvd, player, sat, coke, c...</td>\n",
              "    </tr>\n",
              "    <tr>\n",
              "      <th>2</th>\n",
              "      <td>Why do people who do not know what a particula...</td>\n",
              "      <td>0</td>\n",
              "      <td>[whi, particular, time, past, defin, time, rep...</td>\n",
              "    </tr>\n",
              "    <tr>\n",
              "      <th>3</th>\n",
              "      <td>Even though I have great interest in Biblical ...</td>\n",
              "      <td>0</td>\n",
              "      <td>[even, i, great, interest, biblic, movi, i, bo...</td>\n",
              "    </tr>\n",
              "    <tr>\n",
              "      <th>4</th>\n",
              "      <td>Im a die hard Dads Army fan and nothing will e...</td>\n",
              "      <td>1</td>\n",
              "      <td>[im, hard, dad, armi, chang, i, tape, dvd, aud...</td>\n",
              "    </tr>\n",
              "  </tbody>\n",
              "</table>\n",
              "</div>\n",
              "      <button class=\"colab-df-convert\" onclick=\"convertToInteractive('df-3d584c58-6ba5-42a0-966d-47395ae94dfd')\"\n",
              "              title=\"Convert this dataframe to an interactive table.\"\n",
              "              style=\"display:none;\">\n",
              "        \n",
              "  <svg xmlns=\"http://www.w3.org/2000/svg\" height=\"24px\"viewBox=\"0 0 24 24\"\n",
              "       width=\"24px\">\n",
              "    <path d=\"M0 0h24v24H0V0z\" fill=\"none\"/>\n",
              "    <path d=\"M18.56 5.44l.94 2.06.94-2.06 2.06-.94-2.06-.94-.94-2.06-.94 2.06-2.06.94zm-11 1L8.5 8.5l.94-2.06 2.06-.94-2.06-.94L8.5 2.5l-.94 2.06-2.06.94zm10 10l.94 2.06.94-2.06 2.06-.94-2.06-.94-.94-2.06-.94 2.06-2.06.94z\"/><path d=\"M17.41 7.96l-1.37-1.37c-.4-.4-.92-.59-1.43-.59-.52 0-1.04.2-1.43.59L10.3 9.45l-7.72 7.72c-.78.78-.78 2.05 0 2.83L4 21.41c.39.39.9.59 1.41.59.51 0 1.02-.2 1.41-.59l7.78-7.78 2.81-2.81c.8-.78.8-2.07 0-2.86zM5.41 20L4 18.59l7.72-7.72 1.47 1.35L5.41 20z\"/>\n",
              "  </svg>\n",
              "      </button>\n",
              "      \n",
              "  <style>\n",
              "    .colab-df-container {\n",
              "      display:flex;\n",
              "      flex-wrap:wrap;\n",
              "      gap: 12px;\n",
              "    }\n",
              "\n",
              "    .colab-df-convert {\n",
              "      background-color: #E8F0FE;\n",
              "      border: none;\n",
              "      border-radius: 50%;\n",
              "      cursor: pointer;\n",
              "      display: none;\n",
              "      fill: #1967D2;\n",
              "      height: 32px;\n",
              "      padding: 0 0 0 0;\n",
              "      width: 32px;\n",
              "    }\n",
              "\n",
              "    .colab-df-convert:hover {\n",
              "      background-color: #E2EBFA;\n",
              "      box-shadow: 0px 1px 2px rgba(60, 64, 67, 0.3), 0px 1px 3px 1px rgba(60, 64, 67, 0.15);\n",
              "      fill: #174EA6;\n",
              "    }\n",
              "\n",
              "    [theme=dark] .colab-df-convert {\n",
              "      background-color: #3B4455;\n",
              "      fill: #D2E3FC;\n",
              "    }\n",
              "\n",
              "    [theme=dark] .colab-df-convert:hover {\n",
              "      background-color: #434B5C;\n",
              "      box-shadow: 0px 1px 3px 1px rgba(0, 0, 0, 0.15);\n",
              "      filter: drop-shadow(0px 1px 2px rgba(0, 0, 0, 0.3));\n",
              "      fill: #FFFFFF;\n",
              "    }\n",
              "  </style>\n",
              "\n",
              "      <script>\n",
              "        const buttonEl =\n",
              "          document.querySelector('#df-3d584c58-6ba5-42a0-966d-47395ae94dfd button.colab-df-convert');\n",
              "        buttonEl.style.display =\n",
              "          google.colab.kernel.accessAllowed ? 'block' : 'none';\n",
              "\n",
              "        async function convertToInteractive(key) {\n",
              "          const element = document.querySelector('#df-3d584c58-6ba5-42a0-966d-47395ae94dfd');\n",
              "          const dataTable =\n",
              "            await google.colab.kernel.invokeFunction('convertToInteractive',\n",
              "                                                     [key], {});\n",
              "          if (!dataTable) return;\n",
              "\n",
              "          const docLinkHtml = 'Like what you see? Visit the ' +\n",
              "            '<a target=\"_blank\" href=https://colab.research.google.com/notebooks/data_table.ipynb>data table notebook</a>'\n",
              "            + ' to learn more about interactive tables.';\n",
              "          element.innerHTML = '';\n",
              "          dataTable['output_type'] = 'display_data';\n",
              "          await google.colab.output.renderOutput(dataTable, element);\n",
              "          const docLink = document.createElement('div');\n",
              "          docLink.innerHTML = docLinkHtml;\n",
              "          element.appendChild(docLink);\n",
              "        }\n",
              "      </script>\n",
              "    </div>\n",
              "  </div>\n",
              "  "
            ]
          },
          "metadata": {},
          "execution_count": 26
        }
      ],
      "source": [
        "def preprocess(tweet , remove_spacess = True , stemmers =True ,remove_stops =True ,remove_emojiess = True , remove_noises =True ,\n",
        "               remove_numbers =True  ,ind_arbs =True ,remove_repeats=True , hashtagss =True ,aaats = True ,\n",
        "               tags_urls =True ) :\n",
        "    \"\"\"Process tweet function.\n",
        "    Input:\n",
        "        tweet: a string containing a tweet\n",
        "        flags: list of \"work\" values for all functions will called here.\n",
        "    Output:\n",
        "        cleaned_tweet: tweet after apply all cleaning and normlizaing functions\n",
        "\n",
        "    \"\"\"\n",
        "    if tags_urls is True:\n",
        "        tweet = tags_url(tweet)\n",
        "    if hashtagss:\n",
        "        tweet = hashtags(tweet)\n",
        "    if remove_repeats:\n",
        "        tweet = remove_repeat(tweet)\n",
        "    if remove_numbers:\n",
        "        tweet = remove_number(tweet)\n",
        "    if remove_noises:\n",
        "        tweet = remove_noise(tweet)\n",
        "    if remove_emojiess:\n",
        "        tweet = remove_emojies(tweet)\n",
        "    if aaats:\n",
        "        tweet = aaat(tweet)\n",
        "    if remove_spacess:\n",
        "        tweet = remove_spaces(tweet)   \n",
        "    if remove_stops:\n",
        "        tweet = remove_stop(tweet)\n",
        "\n",
        "    return tweet\n",
        "\n",
        "df['cleaned_text'] = df['text'].apply(lambda tweet: preprocess(tweet))\n",
        "df.head()"
      ]
    },
    {
      "cell_type": "code",
      "execution_count": 27,
      "metadata": {
        "id": "0zdrd3oFmtZo",
        "colab": {
          "base_uri": "https://localhost:8080/"
        },
        "outputId": "019ad832-7161-4453-a686-fb510405536b"
      },
      "outputs": [
        {
          "output_type": "execute_result",
          "data": {
            "text/plain": [
              "['whi',\n",
              " 'particular',\n",
              " 'time',\n",
              " 'past',\n",
              " 'defin',\n",
              " 'time',\n",
              " 'replac',\n",
              " 'wodstock',\n",
              " 'civil',\n",
              " 'war',\n",
              " 'apolo',\n",
              " 'monland',\n",
              " 'titan',\n",
              " 'sink',\n",
              " 'youv',\n",
              " 'realist',\n",
              " 'flick',\n",
              " 'formula',\n",
              " 'soap',\n",
              " 'opera',\n",
              " 'popul',\n",
              " 'entir',\n",
              " 'lowlif',\n",
              " 'trash',\n",
              " 'is',\n",
              " 'kid',\n",
              " 'young',\n",
              " 'alow',\n",
              " 'wodstock',\n",
              " 'fail',\n",
              " 'grade',\n",
              " 'schol',\n",
              " 'composit',\n",
              " 'il',\n",
              " 'show',\n",
              " 'meani',\n",
              " 'il',\n",
              " 'put',\n",
              " 'movi',\n",
              " 'prove',\n",
              " 'nutin',\n",
              " 'topic',\n",
              " 'stil',\n",
              " 'make',\n",
              " 'money',\n",
              " 'yeah',\n",
              " 'the',\n",
              " 'watch',\n",
              " 'film',\n",
              " 'give',\n",
              " 'litl',\n",
              " 'insight',\n",
              " 'undercla',\n",
              " 'the',\n",
              " 'time',\n",
              " 'i',\n",
              " 'slut',\n",
              " 'bar',\n",
              " 'lok',\n",
              " 'dian',\n",
              " 'lane',\n",
              " 'im',\n",
              " 'rune',\n",
              " 'it',\n",
              " 'child',\n",
              " 'abus',\n",
              " 'parent',\n",
              " 'worthl',\n",
              " 'rais',\n",
              " 'kid',\n",
              " 'it',\n",
              " 'audienc',\n",
              " 'abus',\n",
              " 'simpli',\n",
              " 'stick',\n",
              " 'wodstock',\n",
              " 'monland',\n",
              " 'flick',\n",
              " 'ipso',\n",
              " 'facto',\n",
              " 'mean',\n",
              " 'film',\n",
              " 'portray']"
            ]
          },
          "metadata": {},
          "execution_count": 27
        }
      ],
      "source": [
        "df['cleaned_text'].iloc[2]"
      ]
    },
    {
      "cell_type": "code",
      "execution_count": 27,
      "metadata": {
        "id": "fm10lr9Alniv"
      },
      "outputs": [],
      "source": []
    },
    {
      "cell_type": "code",
      "execution_count": 27,
      "metadata": {
        "id": "EgbEWOzBnCrY"
      },
      "outputs": [],
      "source": []
    },
    {
      "cell_type": "code",
      "execution_count": 28,
      "metadata": {
        "id": "xlFUGIZS_hcK"
      },
      "outputs": [],
      "source": [
        "x=df['cleaned_text']\n",
        "y=df['label']"
      ]
    },
    {
      "cell_type": "code",
      "execution_count": 29,
      "metadata": {
        "id": "wYF6cvN74GON"
      },
      "outputs": [],
      "source": [
        "from sklearn.model_selection import train_test_split\n",
        "\n",
        "# X_train, X_test, y_train, y_test = train_test_split(x, y, test_size=0.10)\n",
        "\n",
        "X_train=df['cleaned_text']\n",
        "y_train=df['label']\n",
        "\n",
        "\n",
        "test_review = pd.read_csv(\"Valid.csv\")\n",
        "\n",
        "\n",
        "X_test = test_review[\"text\"]\n",
        "y_test = test_review[\"label\"]"
      ]
    },
    {
      "cell_type": "code",
      "execution_count": 30,
      "metadata": {
        "id": "NIuYFGCq_r97",
        "colab": {
          "base_uri": "https://localhost:8080/"
        },
        "outputId": "f5ad9fc0-26e0-407c-841a-c49b7c7f9959"
      },
      "outputs": [
        {
          "output_type": "stream",
          "name": "stdout",
          "text": [
            "shape of X_train:  (39723,)\n",
            "shape of X_test:  (5786,)\n",
            "shape of y_train:  (39723,)\n",
            "shape of y_test:  (5786,)\n"
          ]
        }
      ],
      "source": [
        "print(\"shape of X_train: \",X_train.shape)\n",
        "print(\"shape of X_test: \",X_test.shape)\n",
        "\n",
        "print(\"shape of y_train: \",y_train.shape)\n",
        "print(\"shape of y_test: \",y_test.shape)"
      ]
    },
    {
      "cell_type": "code",
      "source": [
        "test_review.head()"
      ],
      "metadata": {
        "id": "SzsTjcQd39Qx",
        "colab": {
          "base_uri": "https://localhost:8080/",
          "height": 206
        },
        "outputId": "3c4d0fc3-da61-45f0-e96a-de369e623c1a"
      },
      "execution_count": 31,
      "outputs": [
        {
          "output_type": "execute_result",
          "data": {
            "text/plain": [
              "                                                text  label\n",
              "0  It's been about 14 years since Sharon Stone aw...      0\n",
              "1  someone needed to make a car payment... this i...      0\n",
              "2  The Guidelines state that a comment must conta...      0\n",
              "3  This movie is a muddled mish-mash of clichés f...      0\n",
              "4  Before Stan Laurel became the smaller half of ...      0"
            ],
            "text/html": [
              "\n",
              "  <div id=\"df-1eeaabf3-e270-470b-bdb4-f3b16ad81294\">\n",
              "    <div class=\"colab-df-container\">\n",
              "      <div>\n",
              "<style scoped>\n",
              "    .dataframe tbody tr th:only-of-type {\n",
              "        vertical-align: middle;\n",
              "    }\n",
              "\n",
              "    .dataframe tbody tr th {\n",
              "        vertical-align: top;\n",
              "    }\n",
              "\n",
              "    .dataframe thead th {\n",
              "        text-align: right;\n",
              "    }\n",
              "</style>\n",
              "<table border=\"1\" class=\"dataframe\">\n",
              "  <thead>\n",
              "    <tr style=\"text-align: right;\">\n",
              "      <th></th>\n",
              "      <th>text</th>\n",
              "      <th>label</th>\n",
              "    </tr>\n",
              "  </thead>\n",
              "  <tbody>\n",
              "    <tr>\n",
              "      <th>0</th>\n",
              "      <td>It's been about 14 years since Sharon Stone aw...</td>\n",
              "      <td>0</td>\n",
              "    </tr>\n",
              "    <tr>\n",
              "      <th>1</th>\n",
              "      <td>someone needed to make a car payment... this i...</td>\n",
              "      <td>0</td>\n",
              "    </tr>\n",
              "    <tr>\n",
              "      <th>2</th>\n",
              "      <td>The Guidelines state that a comment must conta...</td>\n",
              "      <td>0</td>\n",
              "    </tr>\n",
              "    <tr>\n",
              "      <th>3</th>\n",
              "      <td>This movie is a muddled mish-mash of clichés f...</td>\n",
              "      <td>0</td>\n",
              "    </tr>\n",
              "    <tr>\n",
              "      <th>4</th>\n",
              "      <td>Before Stan Laurel became the smaller half of ...</td>\n",
              "      <td>0</td>\n",
              "    </tr>\n",
              "  </tbody>\n",
              "</table>\n",
              "</div>\n",
              "      <button class=\"colab-df-convert\" onclick=\"convertToInteractive('df-1eeaabf3-e270-470b-bdb4-f3b16ad81294')\"\n",
              "              title=\"Convert this dataframe to an interactive table.\"\n",
              "              style=\"display:none;\">\n",
              "        \n",
              "  <svg xmlns=\"http://www.w3.org/2000/svg\" height=\"24px\"viewBox=\"0 0 24 24\"\n",
              "       width=\"24px\">\n",
              "    <path d=\"M0 0h24v24H0V0z\" fill=\"none\"/>\n",
              "    <path d=\"M18.56 5.44l.94 2.06.94-2.06 2.06-.94-2.06-.94-.94-2.06-.94 2.06-2.06.94zm-11 1L8.5 8.5l.94-2.06 2.06-.94-2.06-.94L8.5 2.5l-.94 2.06-2.06.94zm10 10l.94 2.06.94-2.06 2.06-.94-2.06-.94-.94-2.06-.94 2.06-2.06.94z\"/><path d=\"M17.41 7.96l-1.37-1.37c-.4-.4-.92-.59-1.43-.59-.52 0-1.04.2-1.43.59L10.3 9.45l-7.72 7.72c-.78.78-.78 2.05 0 2.83L4 21.41c.39.39.9.59 1.41.59.51 0 1.02-.2 1.41-.59l7.78-7.78 2.81-2.81c.8-.78.8-2.07 0-2.86zM5.41 20L4 18.59l7.72-7.72 1.47 1.35L5.41 20z\"/>\n",
              "  </svg>\n",
              "      </button>\n",
              "      \n",
              "  <style>\n",
              "    .colab-df-container {\n",
              "      display:flex;\n",
              "      flex-wrap:wrap;\n",
              "      gap: 12px;\n",
              "    }\n",
              "\n",
              "    .colab-df-convert {\n",
              "      background-color: #E8F0FE;\n",
              "      border: none;\n",
              "      border-radius: 50%;\n",
              "      cursor: pointer;\n",
              "      display: none;\n",
              "      fill: #1967D2;\n",
              "      height: 32px;\n",
              "      padding: 0 0 0 0;\n",
              "      width: 32px;\n",
              "    }\n",
              "\n",
              "    .colab-df-convert:hover {\n",
              "      background-color: #E2EBFA;\n",
              "      box-shadow: 0px 1px 2px rgba(60, 64, 67, 0.3), 0px 1px 3px 1px rgba(60, 64, 67, 0.15);\n",
              "      fill: #174EA6;\n",
              "    }\n",
              "\n",
              "    [theme=dark] .colab-df-convert {\n",
              "      background-color: #3B4455;\n",
              "      fill: #D2E3FC;\n",
              "    }\n",
              "\n",
              "    [theme=dark] .colab-df-convert:hover {\n",
              "      background-color: #434B5C;\n",
              "      box-shadow: 0px 1px 3px 1px rgba(0, 0, 0, 0.15);\n",
              "      filter: drop-shadow(0px 1px 2px rgba(0, 0, 0, 0.3));\n",
              "      fill: #FFFFFF;\n",
              "    }\n",
              "  </style>\n",
              "\n",
              "      <script>\n",
              "        const buttonEl =\n",
              "          document.querySelector('#df-1eeaabf3-e270-470b-bdb4-f3b16ad81294 button.colab-df-convert');\n",
              "        buttonEl.style.display =\n",
              "          google.colab.kernel.accessAllowed ? 'block' : 'none';\n",
              "\n",
              "        async function convertToInteractive(key) {\n",
              "          const element = document.querySelector('#df-1eeaabf3-e270-470b-bdb4-f3b16ad81294');\n",
              "          const dataTable =\n",
              "            await google.colab.kernel.invokeFunction('convertToInteractive',\n",
              "                                                     [key], {});\n",
              "          if (!dataTable) return;\n",
              "\n",
              "          const docLinkHtml = 'Like what you see? Visit the ' +\n",
              "            '<a target=\"_blank\" href=https://colab.research.google.com/notebooks/data_table.ipynb>data table notebook</a>'\n",
              "            + ' to learn more about interactive tables.';\n",
              "          element.innerHTML = '';\n",
              "          dataTable['output_type'] = 'display_data';\n",
              "          await google.colab.output.renderOutput(dataTable, element);\n",
              "          const docLink = document.createElement('div');\n",
              "          docLink.innerHTML = docLinkHtml;\n",
              "          element.appendChild(docLink);\n",
              "        }\n",
              "      </script>\n",
              "    </div>\n",
              "  </div>\n",
              "  "
            ]
          },
          "metadata": {},
          "execution_count": 31
        }
      ]
    },
    {
      "cell_type": "code",
      "execution_count": 32,
      "metadata": {
        "id": "9Q0MWwlQAsRx",
        "colab": {
          "base_uri": "https://localhost:8080/"
        },
        "outputId": "dd009de2-42ce-4e25-8d63-9f49dd21dd3a"
      },
      "outputs": [
        {
          "output_type": "stream",
          "name": "stdout",
          "text": [
            "0    [i, grew, b, watch, love, thunderbird, al, mat...\n",
            "Name: cleaned_text, dtype: object\n",
            "0    [i, grew, b, watch, love, thunderbird, al, mat...\n",
            "Name: cleaned_text, dtype: object\n",
            "[[1, 770, 12, 18, 136, 240, 12, 185, 20, 240, 240, 185, 234, 850, 215, 234, 936, 301, 515, 1, 407, 282, 3, 146, 1, 18, 402, 376, 223, 5, 193, 60, 384, 123, 424, 76, 369, 268, 539, 834, 38, 20, 94, 195, 255, 204, 45, 157, 96, 33, 161, 4, 33, 719, 614, 418]]\n"
          ]
        }
      ],
      "source": [
        "from keras.preprocessing.text import Tokenizer\n",
        "print(X_train[:1])\n",
        "tokenizer = Tokenizer(num_words=1000,lower=False)\n",
        "tokenizer.fit_on_texts(X_train)\n",
        "print(X_train[:1])\n",
        "\n",
        "\n",
        "X_train = tokenizer.texts_to_sequences(X_train)\n",
        "X_test = tokenizer.texts_to_sequences(X_test)\n",
        "print(X_train[:1])\n",
        "\n",
        "\n",
        "vocab_size = len(tokenizer.word_index) + 1"
      ]
    },
    {
      "cell_type": "code",
      "execution_count": 33,
      "metadata": {
        "id": "k4y38xDV_sAn",
        "colab": {
          "base_uri": "https://localhost:8080/"
        },
        "outputId": "2d9dded9-bf31-4255-9eac-a2862c960747"
      },
      "outputs": [
        {
          "output_type": "stream",
          "name": "stdout",
          "text": [
            "[[  1 770  12  18 136 240  12 185  20 240 240 185 234 850 215 234 936 301\n",
            "  515   1 407 282   3 146   1  18 402 376 223   5 193  60 384 123 424  76\n",
            "  369 268 539 834  38  20  94 195 255 204  45 157  96  33 161   4  33 719\n",
            "  614 418   0   0   0   0   0   0   0   0   0   0   0   0   0   0   0   0\n",
            "    0   0   0   0   0   0   0   0   0   0   0   0   0   0   0   0   0   0\n",
            "    0   0   0   0   0   0   0   0   0   0]]\n",
            "0\n"
          ]
        }
      ],
      "source": [
        "from tensorflow.keras.preprocessing.sequence import pad_sequences\n",
        "maxlen = 100  #We set the maximum size of each list to 100.\n",
        "\n",
        "X_train = pad_sequences(X_train[:10000], padding='post', maxlen=maxlen)\n",
        "X_test = pad_sequences(X_test[:4000], padding='post', maxlen=maxlen)\n",
        "print(X_train[:1])\n",
        "\n",
        "print(y_test[3])"
      ]
    },
    {
      "cell_type": "code",
      "execution_count": 34,
      "metadata": {
        "id": "9GGTqbyeAgBJ",
        "colab": {
          "base_uri": "https://localhost:8080/"
        },
        "outputId": "93834698-fe93-43e1-a9a6-38b3fcf83c20"
      },
      "outputs": [
        {
          "output_type": "stream",
          "name": "stdout",
          "text": [
            "(10000, 2)\n",
            "[1. 0.]\n"
          ]
        }
      ],
      "source": [
        "from keras.utils import to_categorical\n",
        "num_classes = 2\n",
        "\n",
        "y_train = to_categorical(y_train[:10000], num_classes)\n",
        "y_test = to_categorical(y_test[:4000], num_classes)\n",
        "\n",
        "print(y_train.shape)\n",
        "print(y_train[0])\n",
        "#print(len(y_train[0]))"
      ]
    },
    {
      "cell_type": "code",
      "execution_count": 35,
      "metadata": {
        "id": "GDL6cUaIAzoY",
        "colab": {
          "base_uri": "https://localhost:8080/"
        },
        "outputId": "aa08e48e-c544-4512-b494-ab9baa38c885"
      },
      "outputs": [
        {
          "output_type": "stream",
          "name": "stdout",
          "text": [
            "(10000, 100, 1)\n",
            "(4000, 100, 1)\n"
          ]
        }
      ],
      "source": [
        "\n",
        "from keras.models import Sequential\n",
        "from keras.layers import Dense, Dropout, Activation,SimpleRNN\n",
        "from keras import optimizers\n",
        "from tensorflow.keras.preprocessing.sequence import pad_sequences\n",
        "import numpy as np\n",
        "\n",
        "\n",
        "X_train = np.array(X_train).reshape((X_train.shape[0], X_train.shape[1], 1))\n",
        "print(X_train.shape)  #(750, 100, 1)\n",
        "\n",
        "X_test = np.array(X_test).reshape((X_test.shape[0], X_test.shape[1], 1))\n",
        "print(X_test.shape)"
      ]
    },
    {
      "cell_type": "code",
      "execution_count": 35,
      "metadata": {
        "id": "ecB4m32XA3KM"
      },
      "outputs": [],
      "source": [
        "num_classes=2\n",
        "from tensorflow.keras.layers import LSTM, MaxPool1D, Dropout, Dense, GlobalMaxPooling1D, Embedding, Activation\n",
        "def vanilla_rnn():\n",
        "  # /////////////////////  1\n",
        "    model = Sequential()\n",
        "    #model.add(SimpleRNN(50 neurons, input_shape = (X_train.shape[1], X_train.shape[2],), return_sequences = False))\n",
        "    model.add(SimpleRNN(50, input_shape = (maxlen,1), return_sequences = False))\n",
        "    model.add(Dense(num_classes))\n",
        "    model.add(Activation('softmax')) \n",
        "    \n",
        "    model.summary()\n",
        "    \n",
        "    adam = optimizers.Adam(lr = 0.001)\n",
        "    model.compile(loss = 'categorical_crossentropy', optimizer = adam, metrics = ['accuracy']) \n",
        "  # /////////////////////////   2\n",
        "  # max_features = 28164\n",
        "  # # embedding_dim = 32\n",
        "  # model = Sequential()\n",
        "  # model.add(Embedding(max_features, 32))\n",
        "  # model.add(Dropout(0.2))\n",
        "  # model.add(LSTM(32, return_sequences=True))\n",
        "  # model.add(Dropout(0.2))\n",
        "  # model.add(Dense(1))\n",
        "  # model.add(Activation('sigmoid'))\n",
        "  # model.summary()\n",
        "    \n",
        "    return model"
      ]
    },
    {
      "cell_type": "code",
      "execution_count": 36,
      "metadata": {
        "id": "3Rt2bnAcA79k",
        "colab": {
          "base_uri": "https://localhost:8080/"
        },
        "outputId": "21446b25-479f-49ec-9e2a-20b27ecbfdc7"
      },
      "outputs": [
        {
          "output_type": "stream",
          "name": "stderr",
          "text": [
            "<ipython-input-36-8492600d1bda>:3: DeprecationWarning: KerasClassifier is deprecated, use Sci-Keras (https://github.com/adriangb/scikeras) instead. See https://www.adriangb.com/scikeras/stable/migration.html for help migrating.\n",
            "  model = KerasClassifier(build_fn = vanilla_rnn, epochs =2 , batch_size = 50)\n"
          ]
        },
        {
          "output_type": "stream",
          "name": "stdout",
          "text": [
            "Model: \"sequential\"\n",
            "_________________________________________________________________\n",
            " Layer (type)                Output Shape              Param #   \n",
            "=================================================================\n",
            " simple_rnn (SimpleRNN)      (None, 50)                2600      \n",
            "                                                                 \n",
            " dense (Dense)               (None, 2)                 102       \n",
            "                                                                 \n",
            " activation (Activation)     (None, 2)                 0         \n",
            "                                                                 \n",
            "=================================================================\n",
            "Total params: 2,702\n",
            "Trainable params: 2,702\n",
            "Non-trainable params: 0\n",
            "_________________________________________________________________\n",
            "Epoch 1/2\n"
          ]
        },
        {
          "output_type": "stream",
          "name": "stderr",
          "text": [
            "/usr/local/lib/python3.10/dist-packages/keras/optimizers/legacy/adam.py:117: UserWarning: The `lr` argument is deprecated, use `learning_rate` instead.\n",
            "  super().__init__(name, **kwargs)\n"
          ]
        },
        {
          "output_type": "stream",
          "name": "stdout",
          "text": [
            "200/200 [==============================] - 5s 21ms/step - loss: 0.7013 - accuracy: 0.5038\n",
            "Epoch 2/2\n",
            "200/200 [==============================] - 4s 18ms/step - loss: 0.6957 - accuracy: 0.5001\n"
          ]
        },
        {
          "output_type": "execute_result",
          "data": {
            "text/plain": [
              "<keras.callbacks.History at 0x7fc003a01bd0>"
            ]
          },
          "metadata": {},
          "execution_count": 36
        }
      ],
      "source": [
        "from keras.wrappers.scikit_learn import KerasClassifier\n",
        "\n",
        "model = KerasClassifier(build_fn = vanilla_rnn, epochs =2 , batch_size = 50)\n",
        "model.fit(X_train, y_train)"
      ]
    },
    {
      "cell_type": "code",
      "execution_count": 36,
      "metadata": {
        "id": "sU5CXmx0t7j4"
      },
      "outputs": [],
      "source": []
    },
    {
      "cell_type": "code",
      "execution_count": 37,
      "metadata": {
        "id": "xgZDOYAbt77r",
        "colab": {
          "base_uri": "https://localhost:8080/"
        },
        "outputId": "f03aad8e-0eda-4a30-9007-49e44ac5d58c"
      },
      "outputs": [
        {
          "output_type": "stream",
          "name": "stderr",
          "text": [
            "<ipython-input-37-c7fe2ecacb31>:19: DeprecationWarning: KerasClassifier is deprecated, use Sci-Keras (https://github.com/adriangb/scikeras) instead. See https://www.adriangb.com/scikeras/stable/migration.html for help migrating.\n",
            "  model = KerasClassifier(build_fn=create_model, epochs=5, batch_size=64)\n"
          ]
        },
        {
          "output_type": "stream",
          "name": "stdout",
          "text": [
            "Epoch 1/5\n",
            "157/157 [==============================] - 27s 160ms/step - loss: 0.6950 - accuracy: 0.4984\n",
            "Epoch 2/5\n",
            "157/157 [==============================] - 25s 159ms/step - loss: 0.6929 - accuracy: 0.5032\n",
            "Epoch 3/5\n",
            "157/157 [==============================] - 26s 164ms/step - loss: 0.6936 - accuracy: 0.5045\n",
            "Epoch 4/5\n",
            "157/157 [==============================] - 25s 160ms/step - loss: 0.6920 - accuracy: 0.5127\n",
            "Epoch 5/5\n",
            "157/157 [==============================] - 25s 161ms/step - loss: 0.6924 - accuracy: 0.5084\n"
          ]
        },
        {
          "output_type": "execute_result",
          "data": {
            "text/plain": [
              "<keras.callbacks.History at 0x7fc00233a980>"
            ]
          },
          "metadata": {},
          "execution_count": 37
        }
      ],
      "source": [
        "\n",
        "# Build the LSTM model\n",
        "\n",
        "X_train_padded = pad_sequences(X_train, padding='post', maxlen=maxlen)\n",
        "X_val_padded = pad_sequences(X_test, padding='post', maxlen=maxlen)\n",
        "\n",
        "X_train_reshaped = np.reshape(X_train_padded, (X_train_padded.shape[0], X_train_padded.shape[1], 1))\n",
        "X_val_reshaped = np.reshape(X_val_padded, (X_val_padded.shape[0], X_val_padded.shape[1], 1))\n",
        "\n",
        "max_len = 100  # maximum sequence length\n",
        "\n",
        "\n",
        "def create_model():\n",
        "    model = Sequential()\n",
        "    model.add(LSTM(units=128, input_shape=(max_len,1)))\n",
        "    model.add(Dense(units=2, activation='sigmoid'))\n",
        "    model.compile(loss='binary_crossentropy', optimizer='adam', metrics=['accuracy'])\n",
        "    return model\n",
        "\n",
        "model = KerasClassifier(build_fn=create_model, epochs=5, batch_size=64)    \n",
        "\n",
        "\n",
        "model.fit(X_train, y_train)"
      ]
    },
    {
      "cell_type": "code",
      "execution_count": 37,
      "metadata": {
        "id": "NDpvv0LZ1S_V"
      },
      "outputs": [],
      "source": []
    },
    {
      "cell_type": "code",
      "execution_count": 38,
      "metadata": {
        "id": "OQ1cVRNhBA35"
      },
      "outputs": [],
      "source": [
        "####################################################  LsTM  #############################################"
      ]
    },
    {
      "cell_type": "code",
      "execution_count": 39,
      "metadata": {
        "id": "VcQH6Nn_UlPN"
      },
      "outputs": [],
      "source": [
        "from keras.models import Sequential\n",
        "from keras.layers import LSTM, Dense, Embedding\n",
        "# from keras.preprocessing.sequence import pad_sequences\n",
        "from keras.preprocessing.text import Tokenizer\n",
        "\n"
      ]
    },
    {
      "cell_type": "code",
      "execution_count": 39,
      "metadata": {
        "id": "0kvxGv3qT7A5"
      },
      "outputs": [],
      "source": []
    },
    {
      "cell_type": "code",
      "execution_count": 40,
      "metadata": {
        "id": "2TRCS76IUF4w"
      },
      "outputs": [],
      "source": [
        "X_val=df['text']\n",
        "y_val=df['label']"
      ]
    },
    {
      "cell_type": "code",
      "execution_count": 41,
      "metadata": {
        "id": "gaK6HOaFcLga"
      },
      "outputs": [],
      "source": [
        "from keras.callbacks import EarlyStopping\n",
        "early_stopping = EarlyStopping(monitor='val_loss', patience=3, restore_best_weights=True)"
      ]
    },
    {
      "cell_type": "code",
      "execution_count": 42,
      "metadata": {
        "id": "GVm4M3iyUnH8",
        "colab": {
          "base_uri": "https://localhost:8080/"
        },
        "outputId": "b5b44939-0621-4806-8a11-efe58d6af46d"
      },
      "outputs": [
        {
          "output_type": "stream",
          "name": "stdout",
          "text": [
            "39723\n",
            "Epoch 1/5\n",
            "621/621 [==============================] - 123s 193ms/step - loss: 0.5165 - accuracy: 0.7275 - val_loss: 0.6802 - val_accuracy: 0.6314\n",
            "Epoch 2/5\n",
            "621/621 [==============================] - 117s 188ms/step - loss: 0.3485 - accuracy: 0.8480 - val_loss: 0.7971 - val_accuracy: 0.6502\n",
            "Epoch 3/5\n",
            "621/621 [==============================] - 116s 186ms/step - loss: 0.3409 - accuracy: 0.8533 - val_loss: 0.6413 - val_accuracy: 0.6804\n",
            "Epoch 4/5\n",
            "621/621 [==============================] - 117s 188ms/step - loss: 0.3376 - accuracy: 0.8536 - val_loss: 0.6169 - val_accuracy: 0.7017\n",
            "Epoch 5/5\n",
            "621/621 [==============================] - 116s 186ms/step - loss: 0.3360 - accuracy: 0.8541 - val_loss: 0.8101 - val_accuracy: 0.6557\n"
          ]
        },
        {
          "output_type": "execute_result",
          "data": {
            "text/plain": [
              "<keras.callbacks.History at 0x7fc003a02530>"
            ]
          },
          "metadata": {},
          "execution_count": 42
        }
      ],
      "source": [
        "X_train=df['cleaned_text']\n",
        "y_train=df['label']\n",
        "\n",
        "from sklearn.model_selection import train_test_split\n",
        "\n",
        "# X_train, X_test, y_train, y_test = train_test_split(x, y, test_size=0.10)\n",
        "\n",
        "X_test = test_review[\"text\"]\n",
        "y_test = test_review[\"label\"]\n",
        "\n",
        "sequences = tokenizer.texts_to_sequences(X_train)\n",
        "sequences_tr= tokenizer.texts_to_sequences(X_test)\n",
        "\n",
        "\n",
        "# Convert labels to one-hot encoding\n",
        "y_train_encoded = to_categorical(y_train, num_classes=2)\n",
        "# y_val_encoded = to_categorical(y_val, num_classes=2)\n",
        "y_test_encoded = to_categorical(y_test, num_classes=2)\n",
        "\n",
        "# Pad sequences\n",
        "print(len(sequences) )\n",
        "\n",
        "# X_train_padded = pad_sequences(X_train, padding='post', maxlen=maxlen)\n",
        "# X_val_padded = pad_sequences(X_test, padding='post', maxlen=maxlen)\n",
        "\n",
        "\n",
        "\n",
        "\n",
        "max_len = 100  # maximum sequence length\n",
        "X_train_padded = pad_sequences(sequences, maxlen=max_len)\n",
        "X_val_padded =pad_sequences(sequences_tr, maxlen=max_len)\n",
        "\n",
        "\n",
        "X_train_reshaped = np.reshape(X_train_padded, (X_train_padded.shape[0], X_train_padded.shape[1], 1))\n",
        "X_val_reshaped = np.reshape(X_val_padded, (X_val_padded.shape[0], X_val_padded.shape[1], 1))\n",
        "\n",
        "# Build the LSTM model\n",
        "model = Sequential()\n",
        "model.add(Embedding(input_dim=vocab_size, output_dim=2, input_length=max_len))\n",
        "model.add(LSTM(units=128))\n",
        "model.add(Dense(units=2, activation='softmax'))\n",
        "# model.add(Dense(units=1, activation='softmax'))\n",
        "\n",
        "# Compile the model\n",
        "model.compile(loss='binary_crossentropy', optimizer='adam', metrics=['accuracy'])\n",
        "\n",
        "# Train the model\n",
        "model.fit(X_train_reshaped, y_train_encoded, validation_data=(X_val_reshaped, y_test_encoded), epochs=5, batch_size=64)\n"
      ]
    },
    {
      "cell_type": "code",
      "execution_count": 42,
      "metadata": {
        "id": "5sm-xDI6UnKx"
      },
      "outputs": [],
      "source": []
    },
    {
      "cell_type": "markdown",
      "metadata": {
        "id": "GlH4DzoT3ACF"
      },
      "source": [
        "# POS tagging With NB "
      ]
    },
    {
      "cell_type": "code",
      "source": [
        "import nltk\n",
        "nltk.download('averaged_perceptron_tagger')"
      ],
      "metadata": {
        "id": "EIbqhXAABTG-",
        "colab": {
          "base_uri": "https://localhost:8080/"
        },
        "outputId": "216cfb39-32fc-4d27-a57c-b25e0d9059f1"
      },
      "execution_count": 36,
      "outputs": [
        {
          "output_type": "stream",
          "name": "stderr",
          "text": [
            "[nltk_data] Downloading package averaged_perceptron_tagger to\n",
            "[nltk_data]     /root/nltk_data...\n",
            "[nltk_data]   Package averaged_perceptron_tagger is already up-to-\n",
            "[nltk_data]       date!\n"
          ]
        },
        {
          "output_type": "execute_result",
          "data": {
            "text/plain": [
              "True"
            ]
          },
          "metadata": {},
          "execution_count": 36
        }
      ]
    },
    {
      "cell_type": "code",
      "execution_count": 37,
      "metadata": {
        "id": "5X8WPMpw1V7q"
      },
      "outputs": [],
      "source": [
        "import nltk\n",
        "# from nltk.tokenize import word_tokenize, pos_tag\n",
        "\n",
        "\n",
        "\n",
        "\n",
        "# preprocessed_tweets=df['cleaned_text'][:5000].tolist()\n",
        "y=df['label'][:10000]\n",
        "\n",
        "def apply_pos_tagging(tweet):\n",
        "    tokens = word_tokenize(tweet)\n",
        "    pos_tags = nltk.pos_tag(tokens)\n",
        "    return pos_tags\n",
        "\n",
        "# Apply POS tagging to the 'text' column\n",
        "df['pos_tags'] = df['text'][:10000].apply(apply_pos_tagging)\n",
        "\n",
        "# Print the DataFrame with POS tags\n",
        "# print(df)\n",
        "\n",
        "\n",
        "# print(preprocessed_tweets[0])\n",
        "# # Tokenize the preprocessed tweets\n",
        "# tokenized_tweets = [nltk.word_tokenize(tweet) for tweet in preprocessed_tweets]\n",
        "\n",
        "# # Apply POS tagging\n",
        "# pos_tagged_tweets =df['pos_tags']"
      ]
    },
    {
      "cell_type": "code",
      "source": [
        "# pos_tagged_tweets =\n",
        "# # pos_tagged_tweets[5]"
      ],
      "metadata": {
        "id": "TwxnzoTDHQpN"
      },
      "execution_count": 38,
      "outputs": []
    },
    {
      "cell_type": "code",
      "source": [
        "test_sentences =  test_review['text'][:2000].apply(apply_pos_tagging)"
      ],
      "metadata": {
        "id": "jInnINqhIxYW"
      },
      "execution_count": 39,
      "outputs": []
    },
    {
      "cell_type": "code",
      "source": [
        "tagged_sentences =df['pos_tags']"
      ],
      "metadata": {
        "id": "33jKH8QNHoCl"
      },
      "execution_count": 40,
      "outputs": []
    },
    {
      "cell_type": "code",
      "execution_count": 41,
      "metadata": {
        "id": "UDbQtWCjTqye"
      },
      "outputs": [],
      "source": [
        "cutoff = 10000\n",
        "training_sentences = tagged_sentences[:cutoff]\n"
      ]
    },
    {
      "cell_type": "code",
      "source": [
        "print (\"Training set senetences: \" + str(len(training_sentences)))\n",
        "print (\"Testing set senentences: \" + str(len(test_sentences)))"
      ],
      "metadata": {
        "id": "3ZTYanA6Hlwl",
        "colab": {
          "base_uri": "https://localhost:8080/"
        },
        "outputId": "ad72bbe3-648a-4ebf-9965-8f0be8e5e2f3"
      },
      "execution_count": 42,
      "outputs": [
        {
          "output_type": "stream",
          "name": "stdout",
          "text": [
            "Training set senetences: 10000\n",
            "Testing set senentences: 2000\n"
          ]
        }
      ]
    },
    {
      "cell_type": "code",
      "source": [
        "def features(sentence, index):\n",
        "    \"\"\" sentence: [w1, w2, ...], index: the index of the word \"\"\"\n",
        "    return {\n",
        "        'word': sentence[index]\n",
        "    }"
      ],
      "metadata": {
        "id": "Lx2COUuIFYy5"
      },
      "execution_count": 43,
      "outputs": []
    },
    {
      "cell_type": "code",
      "source": [
        "# sklearn trainer takes as training data Two arrays : X featuers array, y target array \n",
        "def transform_to_dataset(tagged_sentences):\n",
        "    X, y = [], []\n",
        "    for tagged in tagged_sentences:\n",
        "        for index in range(len(tagged)):\n",
        "            untagged = [w for w, _ in tagged]\n",
        "            X.append(features(untagged, index))\n",
        "            y.append(tagged[index][1])\n",
        "    return X, y"
      ],
      "metadata": {
        "id": "G5LASJNCFavf"
      },
      "execution_count": 44,
      "outputs": []
    },
    {
      "cell_type": "code",
      "source": [
        "X, y = transform_to_dataset(training_sentences)\n",
        "for i in range(10):\n",
        "    print(str(X[i]) + \"||\" + str(y[i]))"
      ],
      "metadata": {
        "id": "sfHbGGqaFayS",
        "colab": {
          "base_uri": "https://localhost:8080/"
        },
        "outputId": "7e9f5461-e466-44c4-b913-a7c51ce9cd6b"
      },
      "execution_count": 45,
      "outputs": [
        {
          "output_type": "stream",
          "name": "stdout",
          "text": [
            "{'word': 'I'}||PRP\n",
            "{'word': 'grew'}||VBD\n",
            "{'word': 'up'}||RP\n",
            "{'word': '('}||(\n",
            "{'word': 'b'}||NN\n",
            "{'word': '.'}||.\n",
            "{'word': '1965'}||CD\n",
            "{'word': ')'}||)\n",
            "{'word': 'watching'}||NN\n",
            "{'word': 'and'}||CC\n"
          ]
        }
      ]
    },
    {
      "cell_type": "code",
      "source": [
        "from sklearn.naive_bayes  import MultinomialNB\n",
        "from sklearn.feature_extraction import DictVectorizer\n",
        "from sklearn.pipeline import Pipeline\n",
        "import datetime"
      ],
      "metadata": {
        "id": "ZkfypgAgFa1c"
      },
      "execution_count": 46,
      "outputs": []
    },
    {
      "cell_type": "code",
      "source": [
        "classifier = MultinomialNB()\n",
        "vectorizer = DictVectorizer(sparse=False)"
      ],
      "metadata": {
        "id": "x2v4sKl8Gqh0"
      },
      "execution_count": 47,
      "outputs": []
    },
    {
      "cell_type": "code",
      "source": [
        "def train(X,y, cutoff_size=0):\n",
        "    \"\"\" X: training features\n",
        "            [{w1_feature1:w1_value1, w1_feature2:w1_value2, ...} \n",
        "             {w2_feature1:w2_value1, w2_feature2:w2_value2, ...}\n",
        "            ...],\n",
        "        y: target\n",
        "            [target1,\n",
        "             target2,\n",
        "             ...\n",
        "            ]\n",
        "        cutoff_size: number of training examples actually used, to save time \"\"\"\n",
        "    if (cutoff_size > 0):\n",
        "        XX = vectorizer.fit_transform(X[:cutoff_size]) \n",
        "    else:\n",
        "        XX = vectorizer.fit_transform(X) \n",
        "\n",
        "    d1 = datetime.datetime.now()\n",
        "    if (cutoff_size > 0):\n",
        "        classifier.fit(XX[:cutoff_size], y[:cutoff_size])  \n",
        "    else:\n",
        "        classifier.fit(XX, y)\n",
        "    d2 = datetime.datetime.now()\n",
        "    print ('Training completed in ' + str(d2-d1))"
      ],
      "metadata": {
        "id": "eNlOp_iUFa4r"
      },
      "execution_count": 48,
      "outputs": []
    },
    {
      "cell_type": "code",
      "source": [
        "train(X,y,cutoff_size=10000) "
      ],
      "metadata": {
        "id": "oWFnWiz0GvJ6",
        "colab": {
          "base_uri": "https://localhost:8080/"
        },
        "outputId": "2ad658f5-1b89-49c9-8db4-be6adaf3b6d5"
      },
      "execution_count": 49,
      "outputs": [
        {
          "output_type": "stream",
          "name": "stdout",
          "text": [
            "Training completed in 0:00:00.214678\n"
          ]
        }
      ]
    },
    {
      "cell_type": "code",
      "source": [
        "# make the testing set\n",
        "X_test, y_test = transform_to_dataset(test_sentences)\n",
        "#evalueate\n",
        "print (\"Accuracy:\", classifier.score(vectorizer.transform(X_test), y_test))"
      ],
      "metadata": {
        "id": "4BZMKmiNGyL7",
        "colab": {
          "base_uri": "https://localhost:8080/"
        },
        "outputId": "14ff46a4-8e8d-48fc-f16e-d89d7257cb65"
      },
      "execution_count": 50,
      "outputs": [
        {
          "output_type": "stream",
          "name": "stdout",
          "text": [
            "Accuracy: 0.7274776524019276\n"
          ]
        }
      ]
    },
    {
      "cell_type": "code",
      "source": [],
      "metadata": {
        "id": "udfzr9KvKAu9"
      },
      "execution_count": 57,
      "outputs": []
    },
    {
      "cell_type": "markdown",
      "source": [
        "#POS tagging with LSTM"
      ],
      "metadata": {
        "id": "zPl_-xvSKDe1"
      }
    },
    {
      "cell_type": "code",
      "source": [
        "import numpy as np\n",
        " \n",
        "sentences, sentence_tags =[], [] \n",
        "for tagged_sentence in tagged_sentences[:10000]:\n",
        "    sentence, tags = zip(*tagged_sentence)\n",
        "    sentences.append(np.array(sentence))\n",
        "    sentence_tags.append(np.array(tags))\n",
        " \n",
        "# Let's see how a sequence looks\n",
        "print(sentences[5])\n",
        "print(sentence_tags[5])"
      ],
      "metadata": {
        "id": "gSQ3md32KHb2",
        "colab": {
          "base_uri": "https://localhost:8080/"
        },
        "outputId": "21814f79-db06-4edb-dd43-68f4c9498bca"
      },
      "execution_count": 51,
      "outputs": [
        {
          "output_type": "stream",
          "name": "stdout",
          "text": [
            "['A' 'terrible' 'movie' 'as' 'everyone' 'has' 'said' '.' 'What' 'made'\n",
            " 'me' 'laugh' 'was' 'the' 'cameo' 'appearance' 'by' 'Scott' 'McNealy' ','\n",
            " 'giving' 'an' 'award' 'to' 'one' 'of' 'the' 'murdered' 'programmers' 'in'\n",
            " 'front' 'of' 'a' 'wall' 'of' 'SUN' 'logos' '.' 'McNealy' 'is' 'the' 'CEO'\n",
            " 'of' 'SUN' 'Microsystem' ',' 'a' 'company' 'that' 'practically' 'defines'\n",
            " 'itself' 'by' 'its' 'hatred' 'of' 'Microsoft' '.' 'They' 'have' 'been'\n",
            " 'instrumental' 'in' 'filing' 'antitrust' 'complaints' 'against'\n",
            " 'Microsoft' '.' 'So' ',' 'were' 'they' 'silly' 'enough' 'to' 'think'\n",
            " 'this' 'bad' 'movie' 'would' 'add' 'fuel' 'to' 'that' 'fire' '?' '<' 'br'\n",
            " '/' '>' '<' 'br' '/' '>' 'There' \"'s\" 'no' 'public' 'record' 'I' 'see'\n",
            " 'of' 'SUN' \"'s\" 'involvement' ',' 'but' 'clearly' 'the' 'makers' 'of'\n",
            " 'this' 'movie' 'know' 'Scott' 'McNealy' '.' 'An' 'interesting' 'mystery'\n",
            " '.']\n",
            "['DT' 'JJ' 'NN' 'IN' 'NN' 'VBZ' 'VBD' '.' 'WP' 'VBD' 'PRP' 'NN' 'VBD' 'DT'\n",
            " 'JJ' 'NN' 'IN' 'NNP' 'NNP' ',' 'VBG' 'DT' 'NN' 'TO' 'CD' 'IN' 'DT' 'JJ'\n",
            " 'NNS' 'IN' 'NN' 'IN' 'DT' 'NN' 'IN' 'NNP' 'NN' '.' 'NNP' 'VBZ' 'DT' 'NN'\n",
            " 'IN' 'NNP' 'NNP' ',' 'DT' 'NN' 'WDT' 'RB' 'VBZ' 'PRP' 'IN' 'PRP$' 'NN'\n",
            " 'IN' 'NNP' '.' 'PRP' 'VBP' 'VBN' 'JJ' 'IN' 'VBG' 'JJ' 'NNS' 'IN' 'NNP'\n",
            " '.' 'RB' ',' 'VBD' 'PRP' 'RB' 'VBP' 'TO' 'VB' 'DT' 'JJ' 'NN' 'MD' 'VB'\n",
            " 'NN' 'TO' 'DT' 'NN' '.' 'JJ' 'NN' 'NNP' 'NNP' 'NNP' 'NN' 'NNP' 'NNP' 'EX'\n",
            " 'VBZ' 'DT' 'JJ' 'NN' 'PRP' 'VBP' 'IN' 'NNP' 'POS' 'NN' ',' 'CC' 'RB' 'DT'\n",
            " 'NNS' 'IN' 'DT' 'NN' 'VBP' 'NNP' 'NNP' '.' 'DT' 'JJ' 'NN' '.']\n"
          ]
        }
      ]
    },
    {
      "cell_type": "code",
      "source": [
        "sentences_test, sentence_tags_test =[], [] \n",
        "for tagged_sentence in test_sentences:\n",
        "    sentence, tags = zip(*tagged_sentence)\n",
        "    sentences_test.append(np.array(sentence))\n",
        "    sentence_tags_test.append(np.array(tags))\n",
        " \n",
        "# Let's see how a sequence looks\n",
        " \n",
        "print(sentences_test[5])\n",
        "print(sentence_tags_test[5])"
      ],
      "metadata": {
        "id": "qdJ2YlkjLEJs",
        "colab": {
          "base_uri": "https://localhost:8080/"
        },
        "outputId": "8d01a514-ed57-4ff9-9811-dc731b47dad2"
      },
      "execution_count": 52,
      "outputs": [
        {
          "output_type": "stream",
          "name": "stdout",
          "text": [
            "['This' 'is' 'the' 'best' 'movie' 'I' \"'ve\" 'ever' 'seen' '!' '<' 'br' '/'\n",
            " '>' '<' 'br' '/' '>' 'Maybe' 'it' \"'s\" 'because' 'I' 'live' 'just' 'a'\n",
            " 'few' 'miles' 'from' 'the' 'village' 'were' 'the' 'story' 'take' 'place'\n",
            " ',' 'and' 'I' 'know' 'how' 'things' 'work' 'out' 'in' 'this' 'area' 'in'\n",
            " 'Sweden' '.' 'The' 'movie' 'tells' 'the' 'truth' ',' 'believe' 'me' '!'\n",
            " 'It' 'both' 'criticizes' 'and' 'honors' 'the' 'lifestyle' 'of' 'Dalarna'\n",
            " ',' 'and' 'the' 'producer' 'wants' 'people' 'who' 'watch' 'the' 'movie'\n",
            " 'to' 'be' 'more' 'opened' 'minded' 'and' 'care' 'more' 'for' 'your'\n",
            " 'closest' 'friends' 'and' 'relatives.' '<' 'br' '/' '>' '<' 'br' '/' '>'\n",
            " 'But' 'if' 'you' 'live' 'in' 'another' 'small' 'village' 'anywhere' 'in'\n",
            " 'Sweden' '(' 'or' 'another' 'country' ')' 'you' 'will' 'probably' 'also'\n",
            " 'recognize' 'much' 'from' 'this' 'movie.' '<' 'br' '/' '>' '<' 'br' '/'\n",
            " '>' 'Thank' 'you' 'Maria' 'Blom' '!']\n",
            "['DT' 'VBZ' 'DT' 'JJS' 'NN' 'PRP' 'VBP' 'RB' 'VBN' '.' 'JJ' 'NN' 'NNP'\n",
            " 'NNP' 'NNP' 'NN' 'NNP' 'NNP' 'NNP' 'PRP' 'VBZ' 'IN' 'PRP' 'VBP' 'RB' 'DT'\n",
            " 'JJ' 'NNS' 'IN' 'DT' 'NN' 'VBD' 'DT' 'NN' 'VB' 'NN' ',' 'CC' 'PRP' 'VBP'\n",
            " 'WRB' 'NNS' 'VBP' 'RP' 'IN' 'DT' 'NN' 'IN' 'NNP' '.' 'DT' 'NN' 'VBZ' 'DT'\n",
            " 'NN' ',' 'VB' 'PRP' '.' 'PRP' 'DT' 'NNS' 'CC' 'NNS' 'DT' 'NN' 'IN' 'NNP'\n",
            " ',' 'CC' 'DT' 'NN' 'VBZ' 'NNS' 'WP' 'VBP' 'DT' 'NN' 'TO' 'VB' 'RBR' 'JJ'\n",
            " 'VBD' 'CC' 'VB' 'JJR' 'IN' 'PRP$' 'JJS' 'NNS' 'CC' 'VB' 'NNP' 'NN' 'NNP'\n",
            " 'NNP' 'NNP' 'NN' 'NNP' 'NNP' 'CC' 'IN' 'PRP' 'VBP' 'IN' 'DT' 'JJ' 'NN'\n",
            " 'RB' 'IN' 'NNP' '(' 'CC' 'DT' 'NN' ')' 'PRP' 'MD' 'RB' 'RB' 'VB' 'RB'\n",
            " 'IN' 'DT' 'NN' 'NNP' 'NN' 'NNP' 'NNP' 'NNP' 'NN' 'NNP' 'NNP' 'NNP' 'PRP'\n",
            " 'NNP' 'NNP' '.']\n"
          ]
        }
      ]
    },
    {
      "cell_type": "code",
      "source": [],
      "metadata": {
        "id": "1EiFjpLpC9Pz"
      },
      "execution_count": 52,
      "outputs": []
    },
    {
      "cell_type": "code",
      "source": [
        "from sklearn.model_selection import train_test_split\n",
        " \n",
        " \n",
        "train_sentences =sentences\n",
        "test_sentences =sentences_test \n",
        "train_tags = sentence_tags\n",
        "test_tags = sentence_tags_test"
      ],
      "metadata": {
        "id": "GuZLC002us5r"
      },
      "execution_count": 53,
      "outputs": []
    },
    {
      "cell_type": "code",
      "source": [],
      "metadata": {
        "id": "IkyDByc2LDok"
      },
      "execution_count": 53,
      "outputs": []
    },
    {
      "cell_type": "code",
      "source": [
        "words, tags = set([]), set([])\n",
        " \n",
        "for s in train_sentences:\n",
        "    for w in s:\n",
        "        words.add(w.lower())\n",
        " \n",
        "for ts in train_tags:\n",
        "    for t in ts:\n",
        "        tags.add(t)\n",
        " \n",
        "word2index = {w: i + 2 for i, w in enumerate(list(words))}\n",
        "word2index['-PAD-'] = 0  # The special value used for padding\n",
        "word2index['-OOV-'] = 1  # The special value used for OOVs\n",
        " \n",
        "tag2index = {t: i + 1 for i, t in enumerate(list(tags))}\n",
        "tag2index['-PAD-'] = 0  # The special value used to padding"
      ],
      "metadata": {
        "id": "ie7CkELpus8L"
      },
      "execution_count": 54,
      "outputs": []
    },
    {
      "cell_type": "code",
      "source": [
        "train_sentences_X, test_sentences_X, train_tags_y, test_tags_y = [], [], [], []\n",
        " \n",
        "for s in train_sentences:\n",
        "    s_int = []\n",
        "    for w in s:\n",
        "        try:\n",
        "            s_int.append(word2index[w.lower()])\n",
        "        except KeyError:\n",
        "            s_int.append(word2index['-OOV-'])\n",
        " \n",
        "    train_sentences_X.append(s_int)\n",
        " \n",
        "for s in test_sentences:\n",
        "    s_int = []\n",
        "    for w in s:\n",
        "        try:\n",
        "            s_int.append(word2index[w.lower()])\n",
        "        except KeyError:\n",
        "            s_int.append(word2index['-OOV-'])\n",
        " \n",
        "    test_sentences_X.append(s_int)\n",
        " \n",
        "for s in train_tags:\n",
        "    train_tags_y.append([tag2index[t] for t in s])\n",
        " \n",
        "for s in test_tags:\n",
        "    test_tags_y.append([tag2index[t] for t in s])\n",
        " \n",
        "print(train_sentences_X[0])\n",
        "print(test_sentences_X[0])\n",
        "print(train_tags_y[0])\n",
        "print(test_tags_y[0])"
      ],
      "metadata": {
        "id": "SobVjqOxus-1",
        "colab": {
          "base_uri": "https://localhost:8080/"
        },
        "outputId": "a68edb12-d417-4672-dd06-a74d7138bcff"
      },
      "execution_count": 55,
      "outputs": [
        {
          "output_type": "stream",
          "name": "stdout",
          "text": [
            "[35827, 17543, 12418, 21984, 25415, 64134, 56109, 40867, 66062, 22345, 1610, 29502, 39170, 64134, 35257, 60752, 2812, 32494, 5239, 46040, 64134, 46390, 8213, 38389, 39170, 59838, 37412, 5239, 36092, 10914, 56847, 22345, 42175, 5239, 64134, 46390, 35257, 19882, 44527, 60140, 8710, 38791, 46973, 64134, 62533, 59750, 19882, 44527, 60140, 13224, 64134, 44630, 38508, 58904, 29146, 49734, 11104, 59874, 23055, 64134, 35827, 30440, 60752, 31031, 44527, 64167, 29502, 24696, 60967, 23005, 46438, 67020, 41464, 25637, 41683, 25743, 35827, 25188, 25456, 41464, 38192, 64134, 34230, 53970, 42665, 64134, 29502, 66172, 15948, 65405, 54174, 29502, 14824, 62482, 2473, 64134, 29358, 54115, 21192, 14243, 39542, 541, 29502, 16009, 43222, 41683, 29502, 39170, 64134, 46692, 38225, 51707, 20853, 59750, 48909, 29328, 30725, 54665, 50445, 41683, 29502, 33498, 19990, 68558, 22345, 26449, 55091, 61668, 64134, 34857, 44885, 19174, 58900, 565, 26449, 55500, 2061, 36092, 26449, 17586, 54174, 2327, 11174, 64134, 41464, 43475, 41683, 30732, 64134, 21613, 26936, 64134, 41464, 32561, 11323, 57319, 60140, 57960, 35408, 45892, 43542, 541, 57503, 63372, 15481, 64134, 63372, 54174, 41464, 30517, 4459, 41683, 16509, 64134]\n",
            "[21192, 65075, 48838, 51380, 44612, 23860, 66373, 51239, 55628, 69227, 26448, 41464, 1, 54115, 6461, 49650, 25741, 65075, 36820, 64134, 22345, 7392, 36092, 7798, 53953, 11606, 36092, 41218, 65075, 565, 29502, 39792, 57133, 64134, 38389, 42919, 41886, 22403, 59838, 65308, 29502, 45601, 44527, 29502, 4311, 49700, 38389, 42919, 41886, 59838, 53177, 41464, 59389, 55628, 22345, 41464, 14406, 16031, 41453, 64134, 16014, 36092, 24492, 41683, 29502, 16009, 13424, 29358, 18310, 67020, 56065, 44527, 43072, 59750, 36092, 66373, 38389, 41886, 22403, 59838, 65308, 33669, 45058, 36092, 25456, 29502, 3157, 55020, 16031, 1, 40741, 29502, 216, 41683, 29502, 32572, 48848, 65014, 42231, 14938, 37317, 65014, 42231, 14938, 37317, 29502, 16067, 41683, 29502, 24696, 52811, 3075, 41464, 8756, 40473, 28105, 565, 46897, 32494, 29502, 42561, 64134, 30775, 34042, 21984, 51239, 55628, 36092, 67775, 44527, 38197, 53439, 59389, 40867, 65308, 41464, 32456, 22345, 11531, 44527, 60140, 47176, 565, 29502, 1580, 64134, 41464, 68293, 21984, 41464, 5297, 35182, 36803, 40867, 65308, 60898, 44527, 1285, 42599, 36092, 35408, 50757, 23219, 35713, 11104, 47683, 39792, 41683, 1, 65014, 42231, 14938, 37317, 65014, 42231, 14938, 37317, 22345, 60435, 21192, 65308, 36092, 17385, 62533, 62309, 64586, 36092, 29502, 42919, 52973, 54115, 21449, 43072, 38389, 41886, 59838, 64134, 12483, 65380, 65308, 26301, 22345, 46390, 22833, 44527, 24766, 54850, 41464, 67872, 36092, 1, 46151, 30732, 64134, 51239, 55628, 51319, 565, 42599, 32572, 3223, 21856, 41218, 65308, 23956, 41683, 29502, 1617, 41464, 39810, 64134, 2985, 41683, 21192, 1504, 41683, 29502, 58220, 55460, 36092, 29502, 68216, 20537, 36092, 22345, 19348, 31239, 4109, 64134, 29502, 24696, 65308, 32015, 41683, 6579, 8033, 22345, 18310, 66733, 64033, 21984, 41464, 42970, 41464, 26554, 44790, 54174, 58938, 8507, 32541, 54115, 43072, 46438, 31991, 60140, 48638, 59841, 40867, 51105, 29502, 32572, 57817, 565, 29502, 33498, 64134, 38389, 41886, 59838, 65308, 41464, 33302, 29607, 65014, 42231, 14938, 37317, 65014, 42231, 14938, 37317, 44527, 43434, 21192, 8507, 36092, 29530, 54115, 29104, 29502, 16009, 30732, 41464, 41565, 51977, 65308, 29358, 24265, 62354, 565, 29502, 30732, 64134, 29502, 1342, 64045, 65308, 17111, 47675, 64134, 51239, 55628, 52229, 10686, 39222, 36092, 35408, 64045, 36092, 41218, 27857, 66120, 40013, 64134, 35182, 36803, 51319, 565, 29502, 24685, 3223, 41683, 26449, 18920, 36092, 22345, 64604, 44527, 37566, 50041, 66733, 51105, 65397, 40261, 565, 29502, 15936, 42675, 22345, 60335, 64134, 38389, 41886, 22403, 59838, 65308, 41464, 5297, 49002, 44527, 4499, 11104, 50903, 16009, 33498, 36092, 54115, 12656, 44527, 14655, 565, 48373, 541, 49700, 66120, 30358, 64134, 32816, 10208, 36092, 34230, 35827, 43742, 51402, 524, 65014, 42231, 14938, 37317, 65014, 42231, 14938, 37317, 59838, 42919, 41886, 22403, 59838, 37566, 46044, 31999, 41464, 11251, 24696, 36092, 22345, 36092, 2338, 36092, 21192, 65308, 31991, 64134, 10686, 37537, 19174, 37566, 67020, 63628, 41683, 31049, 36092, 22345, 54115, 65308, 29502, 23139, 51402, 67020, 42175, 66062, 43072, 64134, 7392, 36092, 21192, 65308, 65380, 69496, 44527, 4111, 11606, 41453, 22345, 35182, 47932, 63600, 63628, 36092, 22345, 11606, 51239, 55628, 54174, 63316, 41464, 30517, 17955, 35713, 43072, 54256, 51972, 51972, 1]\n",
            "[16, 40, 36, 32, 17, 13, 12, 19, 17, 22, 10, 27, 45, 13, 27, 26, 28, 35, 17, 44, 13, 16, 40, 33, 28, 9, 35, 17, 24, 35, 17, 22, 35, 17, 13, 16, 27, 40, 30, 29, 25, 22, 25, 13, 27, 17, 40, 30, 29, 25, 13, 10, 36, 35, 12, 40, 27, 17, 17, 13, 16, 40, 26, 28, 30, 29, 27, 17, 17, 16, 2, 29, 27, 17, 35, 15, 16, 40, 35, 27, 17, 13, 37, 3, 14, 13, 27, 14, 14, 17, 40, 27, 14, 17, 17, 13, 3, 35, 16, 2, 29, 35, 27, 14, 17, 35, 27, 25, 13, 3, 14, 25, 8, 12, 17, 17, 3, 8, 28, 35, 27, 17, 25, 25, 22, 26, 17, 40, 13, 25, 25, 2, 17, 35, 26, 28, 17, 24, 26, 17, 40, 3, 14, 13, 27, 17, 35, 17, 13, 25, 17, 13, 27, 25, 17, 2, 29, 14, 22, 10, 28, 35, 25, 14, 17, 13, 28, 40, 27, 14, 17, 35, 17, 13]\n",
            "[16, 8, 44, 35, 12, 28, 35, 25, 25, 40, 28, 27, 14, 23, 40, 14, 28, 20, 28, 13, 22, 3, 24, 25, 8, 37, 24, 16, 8, 35, 27, 17, 3, 13, 33, 14, 8, 12, 9, 8, 27, 17, 30, 27, 14, 17, 33, 14, 25, 9, 10, 27, 14, 25, 22, 27, 14, 25, 25, 13, 3, 24, 28, 35, 27, 14, 2, 3, 3, 29, 3, 30, 27, 17, 24, 35, 33, 25, 12, 9, 8, 14, 14, 24, 35, 27, 17, 17, 25, 25, 8, 27, 17, 35, 27, 14, 17, 25, 17, 25, 25, 25, 17, 25, 8, 27, 17, 35, 27, 17, 8, 37, 27, 17, 17, 28, 35, 17, 35, 27, 17, 13, 25, 25, 32, 25, 25, 24, 10, 30, 29, 3, 14, 19, 8, 27, 17, 22, 8, 30, 29, 44, 35, 27, 17, 13, 27, 17, 32, 27, 17, 25, 25, 19, 8, 44, 30, 29, 16, 24, 22, 3, 8, 35, 27, 14, 17, 35, 14, 25, 17, 25, 25, 25, 17, 25, 25, 22, 6, 16, 8, 24, 35, 27, 14, 28, 24, 27, 14, 17, 23, 8, 27, 33, 25, 9, 13, 25, 14, 8, 44, 22, 16, 31, 30, 29, 35, 27, 14, 24, 25, 14, 17, 13, 25, 25, 8, 35, 26, 14, 17, 37, 16, 8, 1, 35, 27, 17, 27, 17, 13, 17, 35, 16, 35, 35, 27, 14, 17, 24, 27, 14, 17, 24, 22, 3, 14, 17, 13, 27, 17, 8, 14, 35, 17, 28, 22, 3, 38, 17, 32, 27, 17, 27, 14, 17, 40, 44, 36, 3, 35, 27, 2, 3, 29, 44, 25, 19, 35, 27, 14, 17, 35, 27, 17, 13, 33, 25, 9, 8, 27, 14, 17, 25, 17, 25, 25, 25, 17, 25, 25, 30, 29, 16, 36, 24, 17, 23, 40, 27, 14, 17, 27, 14, 17, 8, 3, 44, 3, 35, 27, 17, 13, 27, 17, 3, 8, 3, 14, 13, 25, 25, 8, 27, 28, 24, 22, 3, 24, 16, 8, 3, 14, 13, 25, 25, 28, 35, 27, 1, 17, 35, 26, 17, 24, 22, 8, 30, 3, 29, 38, 35, 12, 28, 35, 27, 17, 40, 22, 40, 13, 33, 14, 12, 9, 8, 27, 14, 17, 30, 29, 27, 17, 14, 17, 24, 23, 40, 30, 29, 35, 17, 35, 17, 3, 3, 13, 25, 25, 24, 37, 16, 31, 16, 31, 14, 17, 25, 25, 25, 17, 17, 17, 9, 25, 25, 12, 9, 3, 44, 35, 27, 14, 17, 24, 22, 24, 3, 24, 16, 8, 3, 13, 27, 28, 2, 3, 29, 35, 35, 17, 24, 22, 27, 8, 27, 17, 16, 31, 35, 10, 27, 13, 3, 24, 16, 8, 3, 38, 30, 29, 37, 25, 22, 25, 25, 40, 36, 24, 22, 37, 25, 25, 40, 10, 27, 14, 17, 35, 27, 17, 5, 5, 17]\n"
          ]
        }
      ]
    },
    {
      "cell_type": "code",
      "source": [
        "MAX_LENGTH = len(max(train_sentences_X, key=len))\n",
        "print(MAX_LENGTH)  # 271"
      ],
      "metadata": {
        "id": "G-bx3SWbutBK",
        "colab": {
          "base_uri": "https://localhost:8080/"
        },
        "outputId": "7b9582c1-6f33-4fe8-f832-d54d519399c0"
      },
      "execution_count": 56,
      "outputs": [
        {
          "output_type": "stream",
          "name": "stdout",
          "text": [
            "2818\n"
          ]
        }
      ]
    },
    {
      "cell_type": "code",
      "source": [
        "# # from keras.preprocessing.sequence import pad_sequences\n",
        "# from tensorflow.keras.preprocessing.sequence import pad_sequences\n",
        " \n",
        "# train_sentences_X = pad_sequences(train_sentences_X, maxlen=MAX_LENGTH, padding='post')\n",
        "# test_sentences_X = pad_sequences(test_sentences_X, maxlen=MAX_LENGTH, padding='post')\n",
        "# train_tags_y = pad_sequences(train_tags_y, maxlen=MAX_LENGTH, padding='post')\n",
        "# test_tags_y = pad_sequences(test_tags_y, maxlen=MAX_LENGTH, padding='post')\n",
        " \n",
        "# print(train_sentences_X[0])\n",
        "# print(test_sentences_X[0])\n",
        "# print(train_tags_y[0])\n",
        "# print(test_tags_y[0])\n",
        " "
      ],
      "metadata": {
        "id": "HO6XW1x5utDj"
      },
      "execution_count": 57,
      "outputs": []
    },
    {
      "cell_type": "code",
      "source": [
        "# Define parameters\n",
        "max_sequence_length = max(len(sent) for sent in sentences)\n",
        "embedding_dim = 128\n",
        "batch_size = 128\n",
        "num_epochs = 40\n",
        "\n",
        "# Create the data generator\n",
        "def data_generator(sentences, tags, word2index, tag2index, batch_size):\n",
        "    num_samples = len(sentences)\n",
        "    indices = np.arange(num_samples)\n",
        "    np.random.shuffle(indices)\n",
        "    num_batches = num_samples // batch_size\n",
        "\n",
        "    while True:\n",
        "        for i in range(num_batches):\n",
        "            batch_indices = indices[i * batch_size: (i + 1) * batch_size]\n",
        "            batch_sentences = [sentences[idx] for idx in batch_indices]\n",
        "            batch_tags = [tags[idx] for idx in batch_indices]\n",
        "\n",
        "            # Convert words and tags to indices\n",
        "            sentence_indices = [[word2index.get(word.lower(), 0) for word in sent] for sent in batch_sentences]\n",
        "            tag_indices = [[tag2index[tag] for tag in tags] for tags in batch_tags]\n",
        "\n",
        "            # Pad sequences\n",
        "            padded_sentences = pad_sequences(sentence_indices, maxlen=max_sequence_length, padding='post')\n",
        "            padded_tags = pad_sequences(tag_indices, maxlen=max_sequence_length, padding='post')\n",
        "\n",
        "            yield padded_sentences, padded_tags\n"
      ],
      "metadata": {
        "id": "7rmTv_UbDgpf"
      },
      "execution_count": 58,
      "outputs": []
    },
    {
      "cell_type": "code",
      "source": [
        "from keras.models import Sequential\n",
        "from keras.layers import Dense, LSTM, InputLayer, Bidirectional, TimeDistributed, Embedding, Activation\n",
        " \n",
        " \n",
        "model = Sequential()\n",
        "model.add(InputLayer(input_shape=(MAX_LENGTH, )))\n",
        "model.add(Embedding(len(word2index), 128))\n",
        "model.add(Bidirectional(LSTM(256, return_sequences=True)))\n",
        "model.add(TimeDistributed(Dense(len(tag2index))))\n",
        "model.add(Activation('softmax'))\n",
        " \n",
        "model.compile(loss='sparse_categorical_crossentropy', optimizer='adam', metrics=['accuracy'])\n",
        " \n",
        "model.summary()"
      ],
      "metadata": {
        "id": "EhxgzZNwvdwK",
        "colab": {
          "base_uri": "https://localhost:8080/"
        },
        "outputId": "0f216851-37a1-417f-9705-5edbe6db9f6a"
      },
      "execution_count": 59,
      "outputs": [
        {
          "output_type": "stream",
          "name": "stdout",
          "text": [
            "Model: \"sequential\"\n",
            "_________________________________________________________________\n",
            " Layer (type)                Output Shape              Param #   \n",
            "=================================================================\n",
            " embedding (Embedding)       (None, 2818, 128)         8972800   \n",
            "                                                                 \n",
            " bidirectional (Bidirectiona  (None, 2818, 512)        788480    \n",
            " l)                                                              \n",
            "                                                                 \n",
            " time_distributed (TimeDistr  (None, 2818, 46)         23598     \n",
            " ibuted)                                                         \n",
            "                                                                 \n",
            " activation (Activation)     (None, 2818, 46)          0         \n",
            "                                                                 \n",
            "=================================================================\n",
            "Total params: 9,784,878\n",
            "Trainable params: 9,784,878\n",
            "Non-trainable params: 0\n",
            "_________________________________________________________________\n"
          ]
        }
      ]
    },
    {
      "cell_type": "code",
      "source": [
        "def to_categorical(sequences, categories):\n",
        "    cat_sequences = []\n",
        "    for s in sequences:\n",
        "        cats = []\n",
        "        for item in s:\n",
        "            cats.append(np.zeros(categories))\n",
        "            cats[-1][item] = 1.0\n",
        "        cat_sequences.append(cats)\n",
        "    return np.array(cat_sequences)"
      ],
      "metadata": {
        "id": "IwVlHe77HFaZ"
      },
      "execution_count": 60,
      "outputs": []
    },
    {
      "cell_type": "code",
      "source": [
        "# Train the model\n",
        "train_generator = data_generator(train_sentences, train_tags, word2index, tag2index, batch_size)\n",
        "steps_per_epoch = len(train_sentences) // batch_size\n",
        "model.fit(train_generator, steps_per_epoch=steps_per_epoch, epochs=num_epochs, validation_data=(test_sentences, test_tags))# Perform predictions\n",
        "test_indices = [[word2index.get(word.lower(), 0) for word in sent] for sent in test_sentences]\n",
        "test_sentences"
      ],
      "metadata": {
        "id": "5thNZMyNDv7I",
        "colab": {
          "base_uri": "https://localhost:8080/"
        },
        "outputId": "bb3af29a-b394-4849-b1a9-a34eaba40b6f"
      },
      "execution_count": null,
      "outputs": [
        {
          "output_type": "stream",
          "name": "stderr",
          "text": [
            "<ipython-input-60-99b67843b379>:9: VisibleDeprecationWarning: Creating an ndarray from ragged nested sequences (which is a list-or-tuple of lists-or-tuples-or ndarrays with different lengths or shapes) is deprecated. If you meant to do this, you must specify 'dtype=object' when creating the ndarray.\n",
            "  return np.array(cat_sequences)\n"
          ]
        },
        {
          "output_type": "stream",
          "name": "stdout",
          "text": [
            "Epoch 1/5\n"
          ]
        }
      ]
    },
    {
      "cell_type": "code",
      "source": [],
      "metadata": {
        "id": "f3xMJVK9vdyp"
      },
      "execution_count": null,
      "outputs": []
    },
    {
      "cell_type": "code",
      "source": [
        "cat_train_tags_y = to_categorical(train_tags_y, len(tag2index))\n",
        "print(cat_train_tags_y[0])"
      ],
      "metadata": {
        "id": "Kw4kCIvuvd2R"
      },
      "execution_count": null,
      "outputs": []
    },
    {
      "cell_type": "code",
      "source": [
        "model.fit(train_sentences_X, to_categorical(train_tags_y, len(tag2index)), batch_size=128, epochs=40, validation_split=0.2)"
      ],
      "metadata": {
        "id": "xfAIQoUAwMpr"
      },
      "execution_count": null,
      "outputs": []
    },
    {
      "cell_type": "code",
      "source": [
        "scores = model.evaluate(test_sentences_X, to_categorical(test_tags_y, len(tag2index)))\n",
        "print(f\"{model.metrics_names[1]}: {scores[1] * 100}\")   # acc: 99.09751977804825"
      ],
      "metadata": {
        "id": "UYLfAwU6wNLo"
      },
      "execution_count": null,
      "outputs": []
    },
    {
      "cell_type": "code",
      "source": [
        "#######\n",
        "from keras import backend as K\n",
        " \n",
        "def ignore_class_accuracy(to_ignore=0):\n",
        "    def ignore_accuracy(y_true, y_pred):\n",
        "        y_true_class = K.argmax(y_true, axis=-1)\n",
        "        y_pred_class = K.argmax(y_pred, axis=-1)\n",
        " \n",
        "        ignore_mask = K.cast(K.not_equal(y_pred_class, to_ignore), 'int32')\n",
        "        matches = K.cast(K.equal(y_true_class, y_pred_class), 'int32') * ignore_mask\n",
        "        accuracy = K.sum(matches) / K.maximum(K.sum(ignore_mask), 1)\n",
        "        return accuracy\n",
        "    return ignore_accuracy"
      ],
      "metadata": {
        "id": "i6ojU-GTwNOC"
      },
      "execution_count": null,
      "outputs": []
    },
    {
      "cell_type": "code",
      "source": [
        "from keras.models import Sequential\n",
        "from keras.layers import Dense, LSTM, InputLayer, Bidirectional, TimeDistributed, Embedding, Activation\n",
        " \n",
        " \n",
        "model = Sequential()\n",
        "model.add(InputLayer(input_shape=(MAX_LENGTH, )))\n",
        "model.add(Embedding(len(word2index), 128))\n",
        "model.add(Bidirectional(LSTM(256, return_sequences=True)))\n",
        "model.add(TimeDistributed(Dense(len(tag2index))))\n",
        "model.add(Activation('softmax'))\n",
        " \n",
        "model.compile(loss='categorical_crossentropy',\n",
        "              optimizer='adam',\n",
        "              metrics=['accuracy', ignore_class_accuracy(0)])\n",
        " \n",
        "model.summary()"
      ],
      "metadata": {
        "id": "fmXYPobLwNQk"
      },
      "execution_count": null,
      "outputs": []
    },
    {
      "cell_type": "code",
      "source": [
        "model.fit(train_sentences_X, to_categorical(train_tags_y, len(tag2index)), batch_size=128, epochs=40, validation_split=0.2)"
      ],
      "metadata": {
        "id": "GqodRhWdveMh"
      },
      "execution_count": null,
      "outputs": []
    },
    {
      "cell_type": "code",
      "source": [],
      "metadata": {
        "id": "-EVnMCwoxFjD"
      },
      "execution_count": null,
      "outputs": []
    },
    {
      "cell_type": "code",
      "source": [],
      "metadata": {
        "id": "IB5cZuemxFlw"
      },
      "execution_count": null,
      "outputs": []
    }
  ],
  "metadata": {
    "accelerator": "GPU",
    "colab": {
      "provenance": [],
      "gpuType": "T4"
    },
    "gpuClass": "standard",
    "kernelspec": {
      "display_name": "Python 3",
      "name": "python3"
    },
    "language_info": {
      "name": "python"
    }
  },
  "nbformat": 4,
  "nbformat_minor": 0
}